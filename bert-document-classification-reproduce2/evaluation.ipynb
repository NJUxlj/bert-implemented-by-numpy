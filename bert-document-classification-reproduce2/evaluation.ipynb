{
 "cells": [
  {
   "cell_type": "markdown",
   "metadata": {},
   "source": [
    "### Build evaluation tables for paper"
   ]
  },
  {
   "cell_type": "markdown",
   "metadata": {},
   "source": [
    "import json\n",
    "import os\n",
    "import pickle\n",
    "import pandas as pd\n",
    "import numpy as np\n",
    "import logging\n",
    "import matplotlib.pyplot as plt"
   ]
  },
  {
   "cell_type": "code",
   "execution_count": 1,
   "metadata": {},
   "outputs": [],
   "source": [
    "import json\n",
    "import os\n",
    "import pickle\n",
    "import pandas as pd\n",
    "import numpy as np\n",
    "import logging\n",
    "import matplotlib.pyplot as plt"
   ]
  },
  {
   "cell_type": "code",
   "execution_count": null,
   "metadata": {},
   "outputs": [],
   "source": [
    "experiments = {}\n",
    "out_dir = 'experiments_output'\n",
    "for name in os.listdir(out_dir):\n",
    "    if name.startswith('task'):\n",
    "        if not os.path.exists(os.path.join(out_dir, name, 'report.json')):\n",
    "            continue\n",
    "            \n",
    "        experiments[name] = {}\n",
    "        \n",
    "        experiments[name]['task'] = 'a' if name.startswith('task-a') else 'b'\n",
    "        \n",
    "        # Load report\n",
    "        with open(os.path.join(out_dir, name, 'report.json'), 'r') as f:\n",
    "            experiments[name]['report'] = json.load(f)\n",
    "         \n",
    "        if os.path.exists(os.path.join(out_dir, name, 'model_config.json')):\n",
    "            with open(os.path.join(out_dir, name, 'model_config.json'), 'r') as f:\n",
    "                experiments[name]['config'] = json.load(f)\n",
    "            \n",
    "        if 'author-only' in name:\n",
    "            with open(os.path.join(out_dir, name, 'report_author_vec_found.json'), 'r') as f:\n",
    "                experiments[name]['report'] = json.load(f) \n",
    "        "
   ]
  },
  {
   "cell_type": "code",
   "execution_count": null,
   "metadata": {},
   "outputs": [],
   "source": [
    "metrics = ['f1-score', 'precision', 'recall']\n",
    "scores = []\n",
    "\n",
    "for n, d in experiments.items():\n",
    "    dd = {\n",
    "        'name': n,\n",
    "        'task': d['task'],\n",
    "    }\n",
    "    \n",
    "    for metric in metrics:\n",
    "        dd[metric] = d['report']['micro avg'][metric] * 100\n",
    "\n",
    "    scores.append(dd)\n",
    "    \n",
    "#scores = [{'name': n, 'task': , 'micro avg f1-score': d['report']['micro avg']['f1-score']}]\n",
    "\n",
    "df = pd.DataFrame(scores)\n",
    "df = df.set_index('name') #  将数据框中的某一列 'name' 作为该数据框的索引。\n",
    "\n",
    "for metric in metrics:\n",
    "    df[metric + '_diff'] = 0"
   ]
  },
  {
   "cell_type": "code",
   "execution_count": null,
   "metadata": {},
   "outputs": [],
   "source": [
    "from IPython.display import display\n",
    "\n",
    "pd.options.display.float_format = '{:,.2f}'.format\n",
    "\n",
    "def display_task(df, task_id):\n",
    "    print(f'#### Task {task_id} ####')\n",
    "    \n",
    "    df_a = df[df['task'] == task_id]\n",
    "    for metric in metrics:\n",
    "        max_val = df_a[metric].max()\n",
    "        # 使用 assign 方法，创建一个新列，列名为 {metric}_diff，\n",
    "        # 其值为 max_val 减去数据框中相应 metric 列的值。这一列实际上表示每一行与该指标最大值的差异。\n",
    "        df_a = df_a.assign(**{metric + '_diff': max_val - df_a[metric]})\n",
    "        \n",
    "    for metric in metrics:\n",
    "        print(f'Sorted by {metric}')\n",
    "        display(df_a.sort_values([metric], ascending=False))"
   ]
  },
  {
   "cell_type": "code",
   "execution_count": null,
   "metadata": {},
   "outputs": [],
   "source": [
    "display_task(df, 'a')"
   ]
  }
 ],
 "metadata": {
  "kernelspec": {
   "display_name": ".venv",
   "language": "python",
   "name": "python3"
  },
  "language_info": {
   "codemirror_mode": {
    "name": "ipython",
    "version": 3
   },
   "file_extension": ".py",
   "mimetype": "text/x-python",
   "name": "python",
   "nbconvert_exporter": "python",
   "pygments_lexer": "ipython3",
   "version": "3.10.10"
  }
 },
 "nbformat": 4,
 "nbformat_minor": 2
}
