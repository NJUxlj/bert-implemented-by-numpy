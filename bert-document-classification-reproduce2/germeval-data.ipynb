{
 "cells": [
  {
   "cell_type": "code",
   "execution_count": null,
   "metadata": {},
   "outputs": [],
   "source": []
  },
  {
   "cell_type": "markdown",
   "metadata": {},
   "source": [
    "### Germeval 2019: Pre-processing & baseline"
   ]
  },
  {
   "cell_type": "markdown",
   "metadata": {},
   "source": [
    "pip install scikit-multilearn\n",
    "pip install seaborn\n",
    "pip install spacy\n",
    "pip install lxml\n",
    "pip install nltk"
   ]
  },
  {
   "cell_type": "code",
   "execution_count": 26,
   "metadata": {},
   "outputs": [],
   "source": [
    "DATASET_DIR = r\"D:\\ai-code\\bert-projects\\bert-document-classification-reproduce\\datasets\\GermEval2019T1_public_data_final\""
   ]
  },
  {
   "cell_type": "code",
   "execution_count": 27,
   "metadata": {},
   "outputs": [],
   "source": [
    "import os\n",
    "import random\n",
    "import pandas as pd\n",
    "import numpy as np\n",
    "import matplotlib.pyplot as plt\n",
    "import seaborn as sns\n",
    "import codecs\n",
    "import re\n",
    "from collections import defaultdict\n",
    "\n",
    "'''\n",
    "spacy是一个用于自然语言处理的库。\n",
    "minibatch用于生成小批量的数据，常用于训练模型时分批处理数据；\n",
    "compounding则用于创建一个根据输入值变化而产生不同结果的函数，\n",
    "通常用于控制学习率或动态调整参数。\n",
    "'''\n",
    "import spacy\n",
    "from spacy.util import minibatch, compounding\n",
    "import pickle\n",
    "from lxml import etree\n",
    "from datetime import datetime\n",
    "\n",
    "from sklearn.metrics import f1_score\n",
    "\n",
    "# 用于文本处理中的词干提取。\n",
    "from nltk.stem.snowball import SnowballStemmer"
   ]
  },
  {
   "cell_type": "code",
   "execution_count": 28,
   "metadata": {},
   "outputs": [],
   "source": [
    "np.random.seed(0)"
   ]
  },
  {
   "cell_type": "code",
   "execution_count": 29,
   "metadata": {},
   "outputs": [],
   "source": [
    "class Book(object):\n",
    "    def __init__(self, title, body, _copyright, categories, authors, publish_date, isbn, url):\n",
    "        self.title = title\n",
    "        self.text = body\n",
    "        if body == None:\n",
    "            #sys.stderr.write('WARNING: Empty body, setting to \"empty\"\\n')\n",
    "            self.text = \"empty\"\n",
    "        self._copyright = _copyright\n",
    "        self.categories = categories\n",
    "        \n",
    "        self.authors = authors\n",
    "        self.publish_date = publish_date\n",
    "        self.isbn = isbn\n",
    "        self.url = url\n",
    "\n",
    "\n",
    "    # method 2 in Blurb: get leaf-labels\n",
    "    def get_task_labels(self, level=0):\n",
    "        if isinstance(self.categories, dict):\n",
    "            for topic in self.categories:\n",
    "                if self.categories[topic]['d'] == level:\n",
    "                    yield topic\n",
    "                \n",
    "    def get_task1_labels(self):\n",
    "        for topic in self.categories:\n",
    "            if self.categories[topic]['d'] == 0:\n",
    "                yield topic\n",
    "\n",
    "    def get_task2_labels(self):\n",
    "        for topic in self.categories:\n",
    "            if self.categories[topic]['d'] == 1:\n",
    "                yield topic\n",
    "\n",
    "    \n",
    "    #def to_df_item(self, available_cats, with_text=True, levels=[0]):\n",
    "    def to_df_item(self, with_text=True):\n",
    "        '''\n",
    "         将各种数据 封装成 DataFrame数据表中的一行\n",
    "        '''\n",
    "        # categories_level = name: level\n",
    "        \n",
    "        age_in_years = max(round((datetime.today() - datetime.strptime(self.publish_date, '%Y-%m-%d')).days / 365), 1)\n",
    "        \n",
    "        words = self.text.split()\n",
    "        words_len = np.array([len(w) for w in words])\n",
    "        \n",
    "        authors_str = ';'.join(self.authors)\n",
    "        \n",
    "        doc = {\n",
    "            'isbn': self.isbn,\n",
    "            'title': self.title,\n",
    "            'title_words': len(self.title.split()),\n",
    "            'author_count': len(self.authors),\n",
    "            'authors': ';'.join(self.authors),\n",
    "            'authors_academic': 1 if 'dr.' in authors_str.lower() or 'prof.' in authors_str.lower() else 0,\n",
    "            'copyright': self._copyright,\n",
    "            'publish_date': self.publish_date,\n",
    "            'age': age_in_years,\n",
    "            'text_words': len(words),\n",
    "            'text_words_10': round(len(words) / 10), \n",
    "            'word_len_mean': round(np.mean(words_len)),\n",
    "            'word_len_median': round(np.median(words_len)),\n",
    "            'word_len_max': np.max(words_len),           \n",
    "            \n",
    "        }\n",
    "        \n",
    "        if with_text:\n",
    "            doc['text'] = self.text\n",
    "        \n",
    "        return doc\n",
    "    \n",
    "    def to_df_item_labels(self, categories_level):\n",
    "        \n",
    "        # categories\n",
    "        #[('-' * level) + label for label, level in task_labels.items()]\n",
    "        \n",
    "        labels = {('-' * level) + label: 0 for label, level in categories_level.items()}  # init with 0\n",
    "        for cat, v in self.categories.items():\n",
    "            k = ('-' * v['d']) + cat\n",
    "            \n",
    "            if k in labels: \n",
    "                labels[k] = 1\n",
    "                \n",
    "        #doc.update(cats)\n",
    "        #return doc\n",
    "        \n",
    "        return labels"
   ]
  },
  {
   "cell_type": "code",
   "execution_count": 30,
   "metadata": {},
   "outputs": [],
   "source": [
    "def getMatrix(books):\n",
    "    '''\n",
    "     功能：将书籍列表转换为矩阵\n",
    "     \n",
    "     对每本书提取文本信息。\n",
    "        根据书籍的任务1标签生成one-hot编码向量。\n",
    "        将文本信息与标签向量合并后添加到矩阵行中。\n",
    "        返回值为一个二维列表，每个元素包含一本书的文本和其对应的任务1标签编码。\n",
    "     \n",
    "     return m : [batch_size, n_features]\n",
    "    '''\n",
    "    m = []\n",
    "    for b in books:\n",
    "        #row = [b.title, b._copyright, b.publish_date, b.isbn, ' '.join(b.authors), ' '.join(b.getTop_n(n)), b.getTask1Labels()]\n",
    "        row = [b.text]# doing this with only text for first baseline\n",
    "        labelcolumns = [0] * len(task1_labels)\n",
    "        for l in b.get_task1_labels():\n",
    "            labelcolumns[task1label2pos[l]] = 1\n",
    "        row.extend(labelcolumns)\n",
    "        m.append(row)\n",
    "\n",
    "    return m\n",
    "\n",
    "def parseXML(xml, task_labels=dict()):  # task_labels = set(), task2_labels = set\n",
    "    #global alllabels\n",
    "    #global taks1labels\n",
    "    \n",
    "    tree = None\n",
    "    xmlParser = etree.XMLParser(strip_cdata=False, resolve_entities=False, encoding='utf-8', remove_comments=True)\n",
    "    try:\n",
    "        tree = etree.parse(xml, parser=xmlParser).getroot()\n",
    "    except etree.XMLSyntaxError:\n",
    "        # it wasn't proper xml; wrap tags around it\n",
    "        lines = codecs.open(xml, 'r', encoding=\"utf-8\").readlines()\n",
    "        lines = ['<rootnode>'] + lines + ['</rootnode>']\n",
    "        xmlstring = re.sub('&', '&amp;', '\\n'.join(lines))\n",
    "        tree = etree.fromstring(xmlstring)\n",
    "\n",
    "    maxNrAuthors = 0\n",
    "    #global maxNrAuthors\n",
    "\n",
    "    books = []\n",
    "    for book in tree: # 遍历所有的<book>标签\n",
    "        title, body, _cr, auths, pubdata, isbn, url = ['_'] * 7\n",
    "        \n",
    "        # lambda: defaultdict(str): 定义一个没有参数的函数，返回一个默认字典，其中默认值类型为 str（字符串）。\n",
    "        # 因此，当 cats 字典遇到新键时，会自动调用此匿名函数，初始化一个新的默认字典\n",
    "        cats = defaultdict(lambda: defaultdict(str))\n",
    "        \n",
    "        for node in book:\n",
    "            if node.tag == 'title':\n",
    "                title = node.text\n",
    "            elif node.tag == 'body':\n",
    "                body = node.text\n",
    "            elif node.tag == 'copyright':\n",
    "                _cr = node.text\n",
    "            elif node.tag == 'categories':\n",
    "                # creating a dict?               \n",
    "                \n",
    "                # category\n",
    "                for subnode in node:\n",
    "                    # topic d = 0\n",
    "                    for ssubnode in subnode:\n",
    "                        # topic d = 1\n",
    "                        if ssubnode.tag == 'topic': # 如果子节点标签为 topic，则提取主题名称、深度 (d) 和标签信息（如果有）\n",
    "                            cats[ssubnode.text]['d'] = int(ssubnode.get('d'))\n",
    "                            if 'label' in ssubnode.attrib:\n",
    "                                cats[ssubnode.text]['label'] = ssubnode.get('label')\n",
    "            elif node.tag == 'authors':\n",
    "                if node.text:  # was empty for some...\n",
    "                    auths = [x.strip() for x in node.text.split(',')]\n",
    "                    if len(auths) > maxNrAuthors:\n",
    "                        maxNrAuthors = len(auths)\n",
    "            elif node.tag == 'published':\n",
    "                pubdata = node.text\n",
    "            elif node.tag == 'isbn':\n",
    "                isbn = node.text\n",
    "            elif node.tag == 'url':\n",
    "                url = node.text\n",
    "        b = Book(title, body, _cr, cats, auths, pubdata, isbn, url)\n",
    "        \n",
    "        task_labels.update({label: 0 for label in b.get_task_labels(0)})\n",
    "        \n",
    "        # task2\n",
    "        task_labels.update({label: 1 for label in b.get_task_labels(1)})\n",
    "        task_labels.update({label: 2 for label in b.get_task_labels(2)})\n",
    "        \n",
    "        \n",
    "        books.append(b)\n",
    "\n",
    "    return books, task_labels"
   ]
  },
  {
   "cell_type": "markdown",
   "metadata": {},
   "source": [
    "#### 加载训练集，验证集"
   ]
  },
  {
   "cell_type": "code",
   "execution_count": 31,
   "metadata": {},
   "outputs": [],
   "source": [
    "trainbooks, task_labels = parseXML(os.path.join(DATASET_DIR, 'blurbs_train.txt'))\n",
    "validationbooks, task_labels = parseXML(os.path.join(DATASET_DIR, 'blurbs_dev.txt'), task_labels)"
   ]
  },
  {
   "cell_type": "code",
   "execution_count": 32,
   "metadata": {},
   "outputs": [
    {
     "data": {
      "text/plain": [
       "['Literatur & Unterhaltung',\n",
       " 'Ratgeber',\n",
       " 'Künste',\n",
       " 'Sachbuch',\n",
       " 'Glaube & Ethik',\n",
       " 'Kinderbuch & Jugendbuch',\n",
       " 'Ganzheitliches Bewusstsein',\n",
       " 'Architektur & Garten']"
      ]
     },
     "execution_count": 32,
     "metadata": {},
     "output_type": "execute_result"
    }
   ],
   "source": [
    "task1_labels = [label for label, level in task_labels.items() if level == 0]\n",
    "task1_labels"
   ]
  },
  {
   "cell_type": "code",
   "execution_count": 33,
   "metadata": {},
   "outputs": [
    {
     "data": {
      "text/plain": [
       "{'title': 'Die Klinik',\n",
       " 'text': 'Ein Blick hinter die Kulissen eines Krankenhauses vom Autor der Bestseller \"Der Medicus\" und \"Der Medicus von Saragossa\". Der Wissenschaftler Adam Silverstone, der kubanische Aristokrat Rafael Meomartino und der Farbige Spurgeon Robinson - sie sind drei grundverschiedene Klinik-Ärzte, die unter der unerbittlichen Aufsicht von Dr. Longwood praktizieren. Eines Tages stirbt eine Patientin, und Dr. Longwood wittert einen Behandlungsfehler. Sofort macht er sich auf die Suche nach einem Schuldigen, dem er die Verantwortung in die Schuhe schieben könnte ...',\n",
       " '_copyright': '(c) Verlagsgruppe Random House GmbH',\n",
       " 'categories': defaultdict(<function __main__.parseXML.<locals>.<lambda>()>,\n",
       "             {'Literatur & Unterhaltung': defaultdict(str, {'d': 0}),\n",
       "              'Romane & Erzählungen': defaultdict(str,\n",
       "                          {'d': 1, 'label': 'True'})}),\n",
       " 'authors': ['Noah Gordon'],\n",
       " 'publish_date': '2013-12-02',\n",
       " 'isbn': '9783641136291',\n",
       " 'url': 'https://www.randomhouse.de/ebook/Die-Klinik/Noah-Gordon/Heyne/e460034.rhd%0A'}"
      ]
     },
     "execution_count": 33,
     "metadata": {},
     "output_type": "execute_result"
    }
   ],
   "source": [
    "trainbooks[0].__dict__"
   ]
  },
  {
   "cell_type": "code",
   "execution_count": 34,
   "metadata": {},
   "outputs": [
    {
     "data": {
      "text/html": [
       "<div>\n",
       "<style scoped>\n",
       "    .dataframe tbody tr th:only-of-type {\n",
       "        vertical-align: middle;\n",
       "    }\n",
       "\n",
       "    .dataframe tbody tr th {\n",
       "        vertical-align: top;\n",
       "    }\n",
       "\n",
       "    .dataframe thead th {\n",
       "        text-align: right;\n",
       "    }\n",
       "</style>\n",
       "<table border=\"1\" class=\"dataframe\">\n",
       "  <thead>\n",
       "    <tr style=\"text-align: right;\">\n",
       "      <th></th>\n",
       "      <th>isbn</th>\n",
       "      <th>title</th>\n",
       "      <th>title_words</th>\n",
       "      <th>author_count</th>\n",
       "      <th>authors</th>\n",
       "      <th>authors_academic</th>\n",
       "      <th>copyright</th>\n",
       "      <th>publish_date</th>\n",
       "      <th>age</th>\n",
       "      <th>text_words</th>\n",
       "      <th>...</th>\n",
       "      <th>--Baumaterialien</th>\n",
       "      <th>--Griechische Literatur</th>\n",
       "      <th>--Utopie</th>\n",
       "      <th>--Street Art</th>\n",
       "      <th>--Handwerk Holz Grundlagenwissen</th>\n",
       "      <th>--Stadtplanung</th>\n",
       "      <th>--Reden &amp; Glückwünsche</th>\n",
       "      <th>--Fahrzeuge / Technik</th>\n",
       "      <th>--Bibel in gerechter Sprache</th>\n",
       "      <th>--Antiquitäten</th>\n",
       "    </tr>\n",
       "  </thead>\n",
       "  <tbody>\n",
       "    <tr>\n",
       "      <th>0</th>\n",
       "      <td>9783579074030</td>\n",
       "      <td>Selbstständig werden im Glauben</td>\n",
       "      <td>4</td>\n",
       "      <td>1</td>\n",
       "      <td>Hans-Martin Lübking</td>\n",
       "      <td>0</td>\n",
       "      <td>(c) Verlagsgruppe Random House GmbH</td>\n",
       "      <td>2013-07-22</td>\n",
       "      <td>11</td>\n",
       "      <td>113</td>\n",
       "      <td>...</td>\n",
       "      <td>0</td>\n",
       "      <td>0</td>\n",
       "      <td>0</td>\n",
       "      <td>0</td>\n",
       "      <td>0</td>\n",
       "      <td>0</td>\n",
       "      <td>0</td>\n",
       "      <td>0</td>\n",
       "      <td>0</td>\n",
       "      <td>0</td>\n",
       "    </tr>\n",
       "    <tr>\n",
       "      <th>1</th>\n",
       "      <td>9783570380093</td>\n",
       "      <td>Das Buch der Schatten - Schwarze Seelen</td>\n",
       "      <td>7</td>\n",
       "      <td>1</td>\n",
       "      <td>Cate Tiernan</td>\n",
       "      <td>0</td>\n",
       "      <td>(c) Verlagsgruppe Random House GmbH</td>\n",
       "      <td>2013-06-10</td>\n",
       "      <td>11</td>\n",
       "      <td>73</td>\n",
       "      <td>...</td>\n",
       "      <td>0</td>\n",
       "      <td>0</td>\n",
       "      <td>0</td>\n",
       "      <td>0</td>\n",
       "      <td>0</td>\n",
       "      <td>0</td>\n",
       "      <td>0</td>\n",
       "      <td>0</td>\n",
       "      <td>0</td>\n",
       "      <td>0</td>\n",
       "    </tr>\n",
       "    <tr>\n",
       "      <th>2</th>\n",
       "      <td>9783453422650</td>\n",
       "      <td>Die Jesuitin von Lissabon</td>\n",
       "      <td>4</td>\n",
       "      <td>1</td>\n",
       "      <td>Titus Müller</td>\n",
       "      <td>0</td>\n",
       "      <td>(c) Verlagsgruppe Random House GmbH</td>\n",
       "      <td>2018-11-12</td>\n",
       "      <td>6</td>\n",
       "      <td>83</td>\n",
       "      <td>...</td>\n",
       "      <td>0</td>\n",
       "      <td>0</td>\n",
       "      <td>0</td>\n",
       "      <td>0</td>\n",
       "      <td>0</td>\n",
       "      <td>0</td>\n",
       "      <td>0</td>\n",
       "      <td>0</td>\n",
       "      <td>0</td>\n",
       "      <td>0</td>\n",
       "    </tr>\n",
       "    <tr>\n",
       "      <th>3</th>\n",
       "      <td>9783453702479</td>\n",
       "      <td>Die Essenz der Lehre Buddhas</td>\n",
       "      <td>5</td>\n",
       "      <td>1</td>\n",
       "      <td>Dalai Lama</td>\n",
       "      <td>0</td>\n",
       "      <td>(c) Verlagsgruppe Random House GmbH</td>\n",
       "      <td>2014-02-10</td>\n",
       "      <td>11</td>\n",
       "      <td>56</td>\n",
       "      <td>...</td>\n",
       "      <td>0</td>\n",
       "      <td>0</td>\n",
       "      <td>0</td>\n",
       "      <td>0</td>\n",
       "      <td>0</td>\n",
       "      <td>0</td>\n",
       "      <td>0</td>\n",
       "      <td>0</td>\n",
       "      <td>0</td>\n",
       "      <td>0</td>\n",
       "    </tr>\n",
       "    <tr>\n",
       "      <th>4</th>\n",
       "      <td>9783641048198</td>\n",
       "      <td>Das letzte Kind</td>\n",
       "      <td>3</td>\n",
       "      <td>1</td>\n",
       "      <td>John Hart</td>\n",
       "      <td>0</td>\n",
       "      <td>(c) Verlagsgruppe Random House GmbH</td>\n",
       "      <td>2010-08-13</td>\n",
       "      <td>14</td>\n",
       "      <td>111</td>\n",
       "      <td>...</td>\n",
       "      <td>0</td>\n",
       "      <td>0</td>\n",
       "      <td>0</td>\n",
       "      <td>0</td>\n",
       "      <td>0</td>\n",
       "      <td>0</td>\n",
       "      <td>0</td>\n",
       "      <td>0</td>\n",
       "      <td>0</td>\n",
       "      <td>0</td>\n",
       "    </tr>\n",
       "  </tbody>\n",
       "</table>\n",
       "<p>5 rows × 358 columns</p>\n",
       "</div>"
      ],
      "text/plain": [
       "            isbn                                    title  title_words  \\\n",
       "0  9783579074030          Selbstständig werden im Glauben            4   \n",
       "1  9783570380093  Das Buch der Schatten - Schwarze Seelen            7   \n",
       "2  9783453422650                Die Jesuitin von Lissabon            4   \n",
       "3  9783453702479             Die Essenz der Lehre Buddhas            5   \n",
       "4  9783641048198                          Das letzte Kind            3   \n",
       "\n",
       "   author_count              authors  authors_academic  \\\n",
       "0             1  Hans-Martin Lübking                 0   \n",
       "1             1         Cate Tiernan                 0   \n",
       "2             1         Titus Müller                 0   \n",
       "3             1           Dalai Lama                 0   \n",
       "4             1            John Hart                 0   \n",
       "\n",
       "                             copyright publish_date  age  text_words  ...  \\\n",
       "0  (c) Verlagsgruppe Random House GmbH   2013-07-22   11         113  ...   \n",
       "1  (c) Verlagsgruppe Random House GmbH   2013-06-10   11          73  ...   \n",
       "2  (c) Verlagsgruppe Random House GmbH   2018-11-12    6          83  ...   \n",
       "3  (c) Verlagsgruppe Random House GmbH   2014-02-10   11          56  ...   \n",
       "4  (c) Verlagsgruppe Random House GmbH   2010-08-13   14         111  ...   \n",
       "\n",
       "   --Baumaterialien  --Griechische Literatur  --Utopie  --Street Art  \\\n",
       "0                 0                        0         0             0   \n",
       "1                 0                        0         0             0   \n",
       "2                 0                        0         0             0   \n",
       "3                 0                        0         0             0   \n",
       "4                 0                        0         0             0   \n",
       "\n",
       "  --Handwerk Holz Grundlagenwissen  --Stadtplanung  --Reden & Glückwünsche  \\\n",
       "0                                0               0                       0   \n",
       "1                                0               0                       0   \n",
       "2                                0               0                       0   \n",
       "3                                0               0                       0   \n",
       "4                                0               0                       0   \n",
       "\n",
       "   --Fahrzeuge / Technik  --Bibel in gerechter Sprache  --Antiquitäten  \n",
       "0                      0                             0               0  \n",
       "1                      0                             0               0  \n",
       "2                      0                             0               0  \n",
       "3                      0                             0               0  \n",
       "4                      0                             0               0  \n",
       "\n",
       "[5 rows x 358 columns]"
      ]
     },
     "execution_count": 34,
     "metadata": {},
     "output_type": "execute_result"
    }
   ],
   "source": [
    "with_text = True\n",
    "\n",
    "doc_cols = list(trainbooks[0].to_df_item(with_text).keys())\n",
    "label_cols = list(trainbooks[0].to_df_item_labels(task_labels).keys())\n",
    "\n",
    "# 运算符 {**a, **b} 将两个字典合并。\n",
    "train_df = pd.DataFrame([{**d.to_df_item(with_text), **d.to_df_item_labels(task_labels)} for d in trainbooks])\n",
    "val_df = pd.DataFrame([{**d.to_df_item(with_text), **d.to_df_item_labels(task_labels)} for d in validationbooks])\n",
    "\n",
    "# 通过重新索引来确保数据框的列顺序与我们之前定义的 doc_cols 和 label_cols 一致\n",
    "train_df = train_df.reindex(columns=doc_cols + label_cols)\n",
    "val_df = val_df.reindex(columns=doc_cols + label_cols)\n",
    "    \n",
    "val_df.head()"
   ]
  },
  {
   "cell_type": "code",
   "execution_count": 35,
   "metadata": {},
   "outputs": [
    {
     "data": {
      "text/plain": [
       "<Axes: xlabel='author_count'>"
      ]
     },
     "execution_count": 35,
     "metadata": {},
     "output_type": "execute_result"
    },
    {
     "data": {
      "image/png": "[encoded data removed]",
      "text/plain": [
       "<Figure size 640x480 with 1 Axes>"
      ]
     },
     "metadata": {},
     "output_type": "display_data"
    }
   ],
   "source": [
    "train_df['author_count'].value_counts().sort_index().plot(kind='bar')"
   ]
  },
  {
   "cell_type": "code",
   "execution_count": 36,
   "metadata": {},
   "outputs": [
    {
     "data": {
      "text/plain": [
       "<Axes: xlabel='age'>"
      ]
     },
     "execution_count": 36,
     "metadata": {},
     "output_type": "execute_result"
    },
    {
     "data": {
      "image/png": "[encoded data removed]",
      "text/plain": [
       "<Figure size 1500x800 with 1 Axes>"
      ]
     },
     "metadata": {},
     "output_type": "display_data"
    }
   ],
   "source": [
    "\n",
    "train_df['age'].value_counts().sort_index()[:50].plot(kind='bar',figsize=(15,8))"
   ]
  },
  {
   "cell_type": "code",
   "execution_count": 37,
   "metadata": {},
   "outputs": [
    {
     "data": {
      "text/plain": [
       "<Axes: >"
      ]
     },
     "execution_count": 37,
     "metadata": {},
     "output_type": "execute_result"
    },
    {
     "data": {
      "image/png": "[encoded data removed]",
      "text/plain": [
       "<Figure size 640x480 with 1 Axes>"
      ]
     },
     "metadata": {},
     "output_type": "display_data"
    }
   ],
   "source": [
    "# Most frequent labels\n",
    "val_df[task1_labels].sum().plot(kind='bar')"
   ]
  },
  {
   "cell_type": "code",
   "execution_count": 38,
   "metadata": {},
   "outputs": [
    {
     "data": {
      "text/plain": [
       "<Axes: >"
      ]
     },
     "execution_count": 38,
     "metadata": {},
     "output_type": "execute_result"
    },
    {
     "data": {
      "image/png": "[encoded data removed]",
      "text/plain": [
       "<Figure size 640x480 with 1 Axes>"
      ]
     },
     "metadata": {},
     "output_type": "display_data"
    }
   ],
   "source": [
    "# 一类标签分布\n",
    "val_df[label_cols].sum().sort_values(ascending=False)[:10].plot(kind='bar')"
   ]
  },
  {
   "cell_type": "code",
   "execution_count": 39,
   "metadata": {},
   "outputs": [
    {
     "data": {
      "text/plain": [
       "<Axes: >"
      ]
     },
     "execution_count": 39,
     "metadata": {},
     "output_type": "execute_result"
    },
    {
     "data": {
      "image/png": "[encoded data removed]",
      "text/plain": [
       "<Figure size 640x480 with 1 Axes>"
      ]
     },
     "metadata": {},
     "output_type": "display_data"
    }
   ],
   "source": [
    "# 2nd level 二类标签分布\n",
    "val_df[[l for l in label_cols if l.startswith('-') and not l.startswith('--')]].sum().sort_values(ascending=False)[:20].plot(kind='bar')"
   ]
  },
  {
   "cell_type": "code",
   "execution_count": 40,
   "metadata": {},
   "outputs": [
    {
     "data": {
      "text/plain": [
       "<Axes: >"
      ]
     },
     "execution_count": 40,
     "metadata": {},
     "output_type": "execute_result"
    },
    {
     "data": {
      "image/png": "[encoded data removed]",
      "text/plain": [
       "<Figure size 640x480 with 1 Axes>"
      ]
     },
     "metadata": {},
     "output_type": "display_data"
    }
   ],
   "source": [
    "# 3nd level   \n",
    "val_df[[l for l in label_cols if l.startswith('--')]].sum().sort_values(ascending=False)[:20].plot(kind='bar')"
   ]
  },
  {
   "cell_type": "code",
   "execution_count": 41,
   "metadata": {},
   "outputs": [],
   "source": [
    "# Save with text + labels\n",
    "#train_df = pd.DataFrame([d.to_df_item(task_labels, True) for d in trainbooks])\n",
    "#val_df = pd.DataFrame([d.to_df_item(task_labels, True) for d in validationbooks])\n",
    "\n",
    "# Pickle for later use\n",
    "with open('germeval_train_df_meta.pickle', 'wb') as f:\n",
    "    pickle.dump((train_df, doc_cols, label_cols, task1_labels), f)\n",
    "\n",
    "with open('germeval_val_df_meta.pickle', 'wb') as f:\n",
    "    pickle.dump((val_df, doc_cols, label_cols, task1_labels), f)\n",
    "    \n",
    "\n",
    "#########"
   ]
  },
  {
   "cell_type": "markdown",
   "metadata": {},
   "source": [
    "### Low Resource: Number of available training data per label"
   ]
  },
  {
   "cell_type": "code",
   "execution_count": 42,
   "metadata": {},
   "outputs": [
    {
     "name": "stdout",
     "output_type": "stream",
     "text": [
      "Total labels: 343 / total training samples: 14548\n",
      "{'1-9': 73, '10-19': 58, '20-29': 36, '30-39': 29, '40-49': 20, '≥ 50': 127}\n"
     ]
    },
    {
     "data": {
      "image/png": "[encoded data removed]",
      "text/plain": [
       "<Figure size 640x480 with 1 Axes>"
      ]
     },
     "metadata": {},
     "output_type": "display_data"
    },
    {
     "ename": "ValueError",
     "evalue": "If using all scalar values, you must pass an index",
     "output_type": "error",
     "traceback": [
      "\u001b[1;31m---------------------------------------------------------------------------\u001b[0m",
      "\u001b[1;31mValueError\u001b[0m                                Traceback (most recent call last)",
      "Cell \u001b[1;32mIn[42], line 57\u001b[0m\n\u001b[0;32m     53\u001b[0m \u001b[38;5;66;03m#plt.title('Programming language usage')\u001b[39;00m\n\u001b[0;32m     54\u001b[0m \u001b[38;5;66;03m# plt.savefig('samples_per_labels.pdf')\u001b[39;00m\n\u001b[0;32m     55\u001b[0m plt\u001b[38;5;241m.\u001b[39mshow()\n\u001b[1;32m---> 57\u001b[0m \u001b[43mpd\u001b[49m\u001b[38;5;241;43m.\u001b[39;49m\u001b[43mDataFrame\u001b[49m\u001b[38;5;241;43m.\u001b[39;49m\u001b[43mfrom_dict\u001b[49m\u001b[43m(\u001b[49m\u001b[43mgroups_v\u001b[49m\u001b[43m)\u001b[49m\n",
      "File \u001b[1;32md:\\ai-code\\bert-projects\\bert-document-classification-reproduce\\.venv\\lib\\site-packages\\pandas\\core\\frame.py:1917\u001b[0m, in \u001b[0;36mDataFrame.from_dict\u001b[1;34m(cls, data, orient, dtype, columns)\u001b[0m\n\u001b[0;32m   1911\u001b[0m     \u001b[38;5;28;01mraise\u001b[39;00m \u001b[38;5;167;01mValueError\u001b[39;00m(\n\u001b[0;32m   1912\u001b[0m         \u001b[38;5;124mf\u001b[39m\u001b[38;5;124m\"\u001b[39m\u001b[38;5;124mExpected \u001b[39m\u001b[38;5;124m'\u001b[39m\u001b[38;5;124mindex\u001b[39m\u001b[38;5;124m'\u001b[39m\u001b[38;5;124m, \u001b[39m\u001b[38;5;124m'\u001b[39m\u001b[38;5;124mcolumns\u001b[39m\u001b[38;5;124m'\u001b[39m\u001b[38;5;124m or \u001b[39m\u001b[38;5;124m'\u001b[39m\u001b[38;5;124mtight\u001b[39m\u001b[38;5;124m'\u001b[39m\u001b[38;5;124m for orient parameter. \u001b[39m\u001b[38;5;124m\"\u001b[39m\n\u001b[0;32m   1913\u001b[0m         \u001b[38;5;124mf\u001b[39m\u001b[38;5;124m\"\u001b[39m\u001b[38;5;124mGot \u001b[39m\u001b[38;5;124m'\u001b[39m\u001b[38;5;132;01m{\u001b[39;00morient\u001b[38;5;132;01m}\u001b[39;00m\u001b[38;5;124m'\u001b[39m\u001b[38;5;124m instead\u001b[39m\u001b[38;5;124m\"\u001b[39m\n\u001b[0;32m   1914\u001b[0m     )\n\u001b[0;32m   1916\u001b[0m \u001b[38;5;28;01mif\u001b[39;00m orient \u001b[38;5;241m!=\u001b[39m \u001b[38;5;124m\"\u001b[39m\u001b[38;5;124mtight\u001b[39m\u001b[38;5;124m\"\u001b[39m:\n\u001b[1;32m-> 1917\u001b[0m     \u001b[38;5;28;01mreturn\u001b[39;00m \u001b[38;5;28;43mcls\u001b[39;49m\u001b[43m(\u001b[49m\u001b[43mdata\u001b[49m\u001b[43m,\u001b[49m\u001b[43m \u001b[49m\u001b[43mindex\u001b[49m\u001b[38;5;241;43m=\u001b[39;49m\u001b[43mindex\u001b[49m\u001b[43m,\u001b[49m\u001b[43m \u001b[49m\u001b[43mcolumns\u001b[49m\u001b[38;5;241;43m=\u001b[39;49m\u001b[43mcolumns\u001b[49m\u001b[43m,\u001b[49m\u001b[43m \u001b[49m\u001b[43mdtype\u001b[49m\u001b[38;5;241;43m=\u001b[39;49m\u001b[43mdtype\u001b[49m\u001b[43m)\u001b[49m\n\u001b[0;32m   1918\u001b[0m \u001b[38;5;28;01melse\u001b[39;00m:\n\u001b[0;32m   1919\u001b[0m     realdata \u001b[38;5;241m=\u001b[39m data[\u001b[38;5;124m\"\u001b[39m\u001b[38;5;124mdata\u001b[39m\u001b[38;5;124m\"\u001b[39m]\n",
      "File \u001b[1;32md:\\ai-code\\bert-projects\\bert-document-classification-reproduce\\.venv\\lib\\site-packages\\pandas\\core\\frame.py:778\u001b[0m, in \u001b[0;36mDataFrame.__init__\u001b[1;34m(self, data, index, columns, dtype, copy)\u001b[0m\n\u001b[0;32m    772\u001b[0m     mgr \u001b[38;5;241m=\u001b[39m \u001b[38;5;28mself\u001b[39m\u001b[38;5;241m.\u001b[39m_init_mgr(\n\u001b[0;32m    773\u001b[0m         data, axes\u001b[38;5;241m=\u001b[39m{\u001b[38;5;124m\"\u001b[39m\u001b[38;5;124mindex\u001b[39m\u001b[38;5;124m\"\u001b[39m: index, \u001b[38;5;124m\"\u001b[39m\u001b[38;5;124mcolumns\u001b[39m\u001b[38;5;124m\"\u001b[39m: columns}, dtype\u001b[38;5;241m=\u001b[39mdtype, copy\u001b[38;5;241m=\u001b[39mcopy\n\u001b[0;32m    774\u001b[0m     )\n\u001b[0;32m    776\u001b[0m \u001b[38;5;28;01melif\u001b[39;00m \u001b[38;5;28misinstance\u001b[39m(data, \u001b[38;5;28mdict\u001b[39m):\n\u001b[0;32m    777\u001b[0m     \u001b[38;5;66;03m# GH#38939 de facto copy defaults to False only in non-dict cases\u001b[39;00m\n\u001b[1;32m--> 778\u001b[0m     mgr \u001b[38;5;241m=\u001b[39m \u001b[43mdict_to_mgr\u001b[49m\u001b[43m(\u001b[49m\u001b[43mdata\u001b[49m\u001b[43m,\u001b[49m\u001b[43m \u001b[49m\u001b[43mindex\u001b[49m\u001b[43m,\u001b[49m\u001b[43m \u001b[49m\u001b[43mcolumns\u001b[49m\u001b[43m,\u001b[49m\u001b[43m \u001b[49m\u001b[43mdtype\u001b[49m\u001b[38;5;241;43m=\u001b[39;49m\u001b[43mdtype\u001b[49m\u001b[43m,\u001b[49m\u001b[43m \u001b[49m\u001b[43mcopy\u001b[49m\u001b[38;5;241;43m=\u001b[39;49m\u001b[43mcopy\u001b[49m\u001b[43m,\u001b[49m\u001b[43m \u001b[49m\u001b[43mtyp\u001b[49m\u001b[38;5;241;43m=\u001b[39;49m\u001b[43mmanager\u001b[49m\u001b[43m)\u001b[49m\n\u001b[0;32m    779\u001b[0m \u001b[38;5;28;01melif\u001b[39;00m \u001b[38;5;28misinstance\u001b[39m(data, ma\u001b[38;5;241m.\u001b[39mMaskedArray):\n\u001b[0;32m    780\u001b[0m     \u001b[38;5;28;01mfrom\u001b[39;00m \u001b[38;5;21;01mnumpy\u001b[39;00m\u001b[38;5;21;01m.\u001b[39;00m\u001b[38;5;21;01mma\u001b[39;00m \u001b[38;5;28;01mimport\u001b[39;00m mrecords\n",
      "File \u001b[1;32md:\\ai-code\\bert-projects\\bert-document-classification-reproduce\\.venv\\lib\\site-packages\\pandas\\core\\internals\\construction.py:503\u001b[0m, in \u001b[0;36mdict_to_mgr\u001b[1;34m(data, index, columns, dtype, typ, copy)\u001b[0m\n\u001b[0;32m    499\u001b[0m     \u001b[38;5;28;01melse\u001b[39;00m:\n\u001b[0;32m    500\u001b[0m         \u001b[38;5;66;03m# dtype check to exclude e.g. range objects, scalars\u001b[39;00m\n\u001b[0;32m    501\u001b[0m         arrays \u001b[38;5;241m=\u001b[39m [x\u001b[38;5;241m.\u001b[39mcopy() \u001b[38;5;28;01mif\u001b[39;00m \u001b[38;5;28mhasattr\u001b[39m(x, \u001b[38;5;124m\"\u001b[39m\u001b[38;5;124mdtype\u001b[39m\u001b[38;5;124m\"\u001b[39m) \u001b[38;5;28;01melse\u001b[39;00m x \u001b[38;5;28;01mfor\u001b[39;00m x \u001b[38;5;129;01min\u001b[39;00m arrays]\n\u001b[1;32m--> 503\u001b[0m \u001b[38;5;28;01mreturn\u001b[39;00m \u001b[43marrays_to_mgr\u001b[49m\u001b[43m(\u001b[49m\u001b[43marrays\u001b[49m\u001b[43m,\u001b[49m\u001b[43m \u001b[49m\u001b[43mcolumns\u001b[49m\u001b[43m,\u001b[49m\u001b[43m \u001b[49m\u001b[43mindex\u001b[49m\u001b[43m,\u001b[49m\u001b[43m \u001b[49m\u001b[43mdtype\u001b[49m\u001b[38;5;241;43m=\u001b[39;49m\u001b[43mdtype\u001b[49m\u001b[43m,\u001b[49m\u001b[43m \u001b[49m\u001b[43mtyp\u001b[49m\u001b[38;5;241;43m=\u001b[39;49m\u001b[43mtyp\u001b[49m\u001b[43m,\u001b[49m\u001b[43m \u001b[49m\u001b[43mconsolidate\u001b[49m\u001b[38;5;241;43m=\u001b[39;49m\u001b[43mcopy\u001b[49m\u001b[43m)\u001b[49m\n",
      "File \u001b[1;32md:\\ai-code\\bert-projects\\bert-document-classification-reproduce\\.venv\\lib\\site-packages\\pandas\\core\\internals\\construction.py:114\u001b[0m, in \u001b[0;36marrays_to_mgr\u001b[1;34m(arrays, columns, index, dtype, verify_integrity, typ, consolidate)\u001b[0m\n\u001b[0;32m    111\u001b[0m \u001b[38;5;28;01mif\u001b[39;00m verify_integrity:\n\u001b[0;32m    112\u001b[0m     \u001b[38;5;66;03m# figure out the index, if necessary\u001b[39;00m\n\u001b[0;32m    113\u001b[0m     \u001b[38;5;28;01mif\u001b[39;00m index \u001b[38;5;129;01mis\u001b[39;00m \u001b[38;5;28;01mNone\u001b[39;00m:\n\u001b[1;32m--> 114\u001b[0m         index \u001b[38;5;241m=\u001b[39m \u001b[43m_extract_index\u001b[49m\u001b[43m(\u001b[49m\u001b[43marrays\u001b[49m\u001b[43m)\u001b[49m\n\u001b[0;32m    115\u001b[0m     \u001b[38;5;28;01melse\u001b[39;00m:\n\u001b[0;32m    116\u001b[0m         index \u001b[38;5;241m=\u001b[39m ensure_index(index)\n",
      "File \u001b[1;32md:\\ai-code\\bert-projects\\bert-document-classification-reproduce\\.venv\\lib\\site-packages\\pandas\\core\\internals\\construction.py:667\u001b[0m, in \u001b[0;36m_extract_index\u001b[1;34m(data)\u001b[0m\n\u001b[0;32m    664\u001b[0m         \u001b[38;5;28;01mraise\u001b[39;00m \u001b[38;5;167;01mValueError\u001b[39;00m(\u001b[38;5;124m\"\u001b[39m\u001b[38;5;124mPer-column arrays must each be 1-dimensional\u001b[39m\u001b[38;5;124m\"\u001b[39m)\n\u001b[0;32m    666\u001b[0m \u001b[38;5;28;01mif\u001b[39;00m \u001b[38;5;129;01mnot\u001b[39;00m indexes \u001b[38;5;129;01mand\u001b[39;00m \u001b[38;5;129;01mnot\u001b[39;00m raw_lengths:\n\u001b[1;32m--> 667\u001b[0m     \u001b[38;5;28;01mraise\u001b[39;00m \u001b[38;5;167;01mValueError\u001b[39;00m(\u001b[38;5;124m\"\u001b[39m\u001b[38;5;124mIf using all scalar values, you must pass an index\u001b[39m\u001b[38;5;124m\"\u001b[39m)\n\u001b[0;32m    669\u001b[0m \u001b[38;5;28;01mif\u001b[39;00m have_series:\n\u001b[0;32m    670\u001b[0m     index \u001b[38;5;241m=\u001b[39m union_indexes(indexes)\n",
      "\u001b[1;31mValueError\u001b[0m: If using all scalar values, you must pass an index"
     ]
    }
   ],
   "source": [
    "task2_labels = label_cols\n",
    "#task1_labels\n",
    "len(task2_labels)\n",
    "\n",
    "print(f'Total labels: {len(task2_labels)} / total training samples: {len(train_df)}')\n",
    "\n",
    "label2sample_count = {} # 统计每个label的样本数量\n",
    "\n",
    "groups_f = {\n",
    "    '1': lambda x: x == 1,\n",
    "    '< 5': lambda x: 1 < x < 5,\n",
    "    '< 10': lambda x: 5 <= x < 10,\n",
    "    '< 25': lambda x: 10 <= x < 25,\n",
    "    '< 50': lambda x: 25 <= x < 50,\n",
    "    '< 100': lambda x: 50 <= x < 100,\n",
    "    '< 250': lambda x: 100 <= x < 250,\n",
    "    '≥ 250': lambda x: x > 250,\n",
    "}\n",
    "groups_f = {\n",
    "    '1-9': lambda x: 1 <= x < 10,\n",
    "    '10-19': lambda x: 10 <= x < 20,\n",
    "    '20-29': lambda x: 20 <= x < 30,\n",
    "    '30-39': lambda x: 30 <= x < 40,\n",
    "    '40-49': lambda x: 40 <= x < 50,   \n",
    "    '≥ 50': lambda x: x >= 50,\n",
    "    #'50-99': lambda x: 50 <= x < 100,\n",
    "    #'100-199': lambda x: 100 <= x < 200,\n",
    "    #'≥ 200': lambda x: x >= 200,\n",
    "}\n",
    "\n",
    "groups_v = {v: 0 for v in groups_f} \n",
    "\n",
    "\n",
    "for label in task2_labels:\n",
    "    c = sum(train_df[label] == 1)\n",
    "    label2sample_count[label] = c\n",
    "    \n",
    "    for g in groups_f:\n",
    "        if groups_f[g](c): # c 在这个范围内\n",
    "            if g in groups_v:\n",
    "                groups_v[g] += 1\n",
    "            else:\n",
    "                groups_v[g] = 1\n",
    "                \n",
    "        \n",
    "print(groups_v)\n",
    "#print(groups_v['1'] + groups_v['< 5'] + groups_v['< 10'])\n",
    "\n",
    "plt.bar(groups_v.keys(), groups_v.values(), align='center')\n",
    "plt.xticks(list(groups_v.keys()))\n",
    "plt.ylabel('Number of labels')\n",
    "plt.xlabel('Available number of samples per label in training set')\n",
    "#plt.title('Programming language usage')\n",
    "# plt.savefig('samples_per_labels.pdf')\n",
    "plt.show()\n",
    "\n",
    "pd.DataFrame.from_dict(groups_v)"
   ]
  },
  {
   "cell_type": "markdown",
   "metadata": {},
   "source": [
    "### Do author stick to their genre?"
   ]
  },
  {
   "cell_type": "code",
   "execution_count": 43,
   "metadata": {},
   "outputs": [],
   "source": [
    "author2labels = {}  # name => set(labels)\n",
    "\n",
    "#for idx, row in pd.concat([train_df, val_df]).iterrows():\n",
    "#    for author in row['author'].split(';'):\n",
    "#        if author not in author2labels:\n",
    "#\n",
    "\n",
    "for b in trainbooks:\n",
    "    for a in b.authors:\n",
    "        if a not in author2labels:\n",
    "            author2labels[a] = set()\n",
    "            \n",
    "        author2labels[a].add('/'.join(list(b.categories.keys())))"
   ]
  },
  {
   "cell_type": "code",
   "execution_count": null,
   "metadata": {},
   "outputs": [],
   "source": [
    "author2labels"
   ]
  },
  {
   "cell_type": "code",
   "execution_count": 45,
   "metadata": {},
   "outputs": [
    {
     "name": "stdout",
     "output_type": "stream",
     "text": [
      "INFO: Preprocessing data... completed\n",
      "\n"
     ]
    }
   ],
   "source": [
    "#global task1label2pos\n",
    "#global task1pos2label\n",
    "\n",
    "task1label2pos = {}\n",
    "task1pos2label = {}\n",
    "\n",
    "for i, l in enumerate(task1_labels):\n",
    "    task1label2pos[l] = i\n",
    "    task1pos2label[i] = l\n",
    "train_m = getMatrix(trainbooks)\n",
    "validation_m = getMatrix(validationbooks)\n",
    "\n",
    "\n",
    "headers = ['blurb'] + [task1pos2label[x] for x in sorted(task1pos2label.keys())]\n",
    "train_df = pd.DataFrame(train_m, columns=headers)\n",
    "val_df = pd.DataFrame(validation_m, columns=headers)\n",
    "\n",
    "\n",
    "print('INFO: Preprocessing data... completed\\n')"
   ]
  },
  {
   "cell_type": "code",
   "execution_count": 46,
   "metadata": {},
   "outputs": [
    {
     "data": {
      "text/html": [
       "<div>\n",
       "<style scoped>\n",
       "    .dataframe tbody tr th:only-of-type {\n",
       "        vertical-align: middle;\n",
       "    }\n",
       "\n",
       "    .dataframe tbody tr th {\n",
       "        vertical-align: top;\n",
       "    }\n",
       "\n",
       "    .dataframe thead th {\n",
       "        text-align: right;\n",
       "    }\n",
       "</style>\n",
       "<table border=\"1\" class=\"dataframe\">\n",
       "  <thead>\n",
       "    <tr style=\"text-align: right;\">\n",
       "      <th></th>\n",
       "      <th>blurb</th>\n",
       "      <th>Literatur &amp; Unterhaltung</th>\n",
       "      <th>Ratgeber</th>\n",
       "      <th>Künste</th>\n",
       "      <th>Sachbuch</th>\n",
       "      <th>Glaube &amp; Ethik</th>\n",
       "      <th>Kinderbuch &amp; Jugendbuch</th>\n",
       "      <th>Ganzheitliches Bewusstsein</th>\n",
       "      <th>Architektur &amp; Garten</th>\n",
       "    </tr>\n",
       "  </thead>\n",
       "  <tbody>\n",
       "    <tr>\n",
       "      <th>0</th>\n",
       "      <td>Ein Blick hinter die Kulissen eines Krankenhau...</td>\n",
       "      <td>1</td>\n",
       "      <td>0</td>\n",
       "      <td>0</td>\n",
       "      <td>0</td>\n",
       "      <td>0</td>\n",
       "      <td>0</td>\n",
       "      <td>0</td>\n",
       "      <td>0</td>\n",
       "    </tr>\n",
       "    <tr>\n",
       "      <th>1</th>\n",
       "      <td>Die Bedrohungen für Midkemia und Kelewan wolle...</td>\n",
       "      <td>1</td>\n",
       "      <td>0</td>\n",
       "      <td>0</td>\n",
       "      <td>0</td>\n",
       "      <td>0</td>\n",
       "      <td>0</td>\n",
       "      <td>0</td>\n",
       "      <td>0</td>\n",
       "    </tr>\n",
       "    <tr>\n",
       "      <th>2</th>\n",
       "      <td>In der Dreizimmerwohnung stapeln sich Flohmark...</td>\n",
       "      <td>0</td>\n",
       "      <td>1</td>\n",
       "      <td>0</td>\n",
       "      <td>0</td>\n",
       "      <td>0</td>\n",
       "      <td>0</td>\n",
       "      <td>0</td>\n",
       "      <td>0</td>\n",
       "    </tr>\n",
       "    <tr>\n",
       "      <th>3</th>\n",
       "      <td>An der Seite von Damien fühlt sich Nikki zum e...</td>\n",
       "      <td>1</td>\n",
       "      <td>0</td>\n",
       "      <td>0</td>\n",
       "      <td>0</td>\n",
       "      <td>0</td>\n",
       "      <td>0</td>\n",
       "      <td>0</td>\n",
       "      <td>0</td>\n",
       "    </tr>\n",
       "    <tr>\n",
       "      <th>4</th>\n",
       "      <td>Wer Kara Ben Nemsi, Hadschi Halef Omar und Sir...</td>\n",
       "      <td>1</td>\n",
       "      <td>0</td>\n",
       "      <td>0</td>\n",
       "      <td>0</td>\n",
       "      <td>0</td>\n",
       "      <td>0</td>\n",
       "      <td>0</td>\n",
       "      <td>0</td>\n",
       "    </tr>\n",
       "  </tbody>\n",
       "</table>\n",
       "</div>"
      ],
      "text/plain": [
       "                                               blurb  \\\n",
       "0  Ein Blick hinter die Kulissen eines Krankenhau...   \n",
       "1  Die Bedrohungen für Midkemia und Kelewan wolle...   \n",
       "2  In der Dreizimmerwohnung stapeln sich Flohmark...   \n",
       "3  An der Seite von Damien fühlt sich Nikki zum e...   \n",
       "4  Wer Kara Ben Nemsi, Hadschi Halef Omar und Sir...   \n",
       "\n",
       "   Literatur & Unterhaltung  Ratgeber  Künste  Sachbuch  Glaube & Ethik  \\\n",
       "0                         1         0       0         0               0   \n",
       "1                         1         0       0         0               0   \n",
       "2                         0         1       0         0               0   \n",
       "3                         1         0       0         0               0   \n",
       "4                         1         0       0         0               0   \n",
       "\n",
       "   Kinderbuch & Jugendbuch  Ganzheitliches Bewusstsein  Architektur & Garten  \n",
       "0                        0                           0                     0  \n",
       "1                        0                           0                     0  \n",
       "2                        0                           0                     0  \n",
       "3                        0                           0                     0  \n",
       "4                        0                           0                     0  "
      ]
     },
     "execution_count": 46,
     "metadata": {},
     "output_type": "execute_result"
    }
   ],
   "source": [
    "train_df.head()"
   ]
  },
  {
   "cell_type": "markdown",
   "metadata": {},
   "source": [
    "### 存储train_df, val_df"
   ]
  },
  {
   "cell_type": "code",
   "execution_count": 47,
   "metadata": {},
   "outputs": [],
   "source": [
    "\n",
    "# Pickle for later use\n",
    "with open('germeval_train_df.pickle', 'wb') as f:\n",
    "    pickle.dump(train_df, f)\n",
    "\n",
    "with open('germeval_val_df.pickle', 'wb') as f:\n",
    "    pickle.dump(val_df, f)"
   ]
  },
  {
   "cell_type": "code",
   "execution_count": 48,
   "metadata": {},
   "outputs": [],
   "source": [
    "def cleanPunc(sentence): #function to clean the word of any punctuation or special characters\n",
    "    cleaned = re.sub(r'[?|!|\\'|\"|#]',r'',sentence)\n",
    "    cleaned = re.sub(r'[.|,|)|(|\\|/]',r' ',cleaned)\n",
    "    cleaned = cleaned.strip()\n",
    "    cleaned = cleaned.replace(\"\\n\",\" \")\n",
    "    return cleaned\n",
    "\n",
    "def removeStopWords(sentence, re_stop_words):\n",
    "    if sentence is not None and len(sentence) > 0:\n",
    "        return re_stop_words.sub(\" \", sentence)\n",
    "    else:\n",
    "        print('WARNING: null sentence')\n",
    "        return ''\n",
    "\n",
    "def stemming(sentence, stemmer):\n",
    "    stemSentence = \"\"\n",
    "    for word in sentence.split():\n",
    "        stem = stemmer.stem(word)\n",
    "        stemSentence += stem\n",
    "        stemSentence += \" \"\n",
    "    stemSentence = stemSentence.strip()\n",
    "    return stemSentence"
   ]
  },
  {
   "cell_type": "code",
   "execution_count": 59,
   "metadata": {},
   "outputs": [
    {
     "name": "stdout",
     "output_type": "stream",
     "text": [
      "Collecting de-core-news-md==3.7.0\n",
      "  Downloading https://github.com/explosion/spacy-models/releases/download/de_core_news_md-3.7.0/de_core_news_md-3.7.0-py3-none-any.whl (44.4 MB)\n",
      "     ---------------------------------------- 0.0/44.4 MB ? eta -:--:--\n",
      "     ---------------------------------------- 0.0/44.4 MB ? eta -:--:--\n",
      "     ---------------------------------------- 0.0/44.4 MB ? eta -:--:--\n",
      "     ---------------------------------------- 0.5/44.4 MB 1.9 MB/s eta 0:00:24\n",
      "      --------------------------------------- 0.8/44.4 MB 2.0 MB/s eta 0:00:23\n",
      "     - -------------------------------------- 1.3/44.4 MB 2.0 MB/s eta 0:00:22\n",
      "     - -------------------------------------- 1.6/44.4 MB 2.0 MB/s eta 0:00:22\n",
      "     - -------------------------------------- 2.1/44.4 MB 2.0 MB/s eta 0:00:22\n",
      "     -- ------------------------------------- 2.4/44.4 MB 2.0 MB/s eta 0:00:22\n",
      "     -- ------------------------------------- 2.9/44.4 MB 2.0 MB/s eta 0:00:22\n",
      "     --- ------------------------------------ 3.4/44.4 MB 2.0 MB/s eta 0:00:21\n",
      "     --- ------------------------------------ 3.7/44.4 MB 2.0 MB/s eta 0:00:21\n",
      "     --- ------------------------------------ 4.2/44.4 MB 2.0 MB/s eta 0:00:21\n",
      "     ---- ----------------------------------- 4.5/44.4 MB 2.0 MB/s eta 0:00:21\n",
      "     ---- ----------------------------------- 5.0/44.4 MB 2.0 MB/s eta 0:00:21\n",
      "     ---- ----------------------------------- 5.2/44.4 MB 2.0 MB/s eta 0:00:21\n",
      "     ----- ---------------------------------- 5.8/44.4 MB 2.0 MB/s eta 0:00:20\n",
      "     ----- ---------------------------------- 6.3/44.4 MB 2.0 MB/s eta 0:00:20\n",
      "     ----- ---------------------------------- 6.6/44.4 MB 2.0 MB/s eta 0:00:20\n",
      "     ------ --------------------------------- 7.1/44.4 MB 2.0 MB/s eta 0:00:19\n",
      "     ------ --------------------------------- 7.3/44.4 MB 2.0 MB/s eta 0:00:19\n",
      "     ------- -------------------------------- 7.9/44.4 MB 2.0 MB/s eta 0:00:19\n",
      "     ------- -------------------------------- 8.4/44.4 MB 2.0 MB/s eta 0:00:19\n",
      "     ------- -------------------------------- 8.7/44.4 MB 2.0 MB/s eta 0:00:19\n",
      "     -------- ------------------------------- 9.2/44.4 MB 2.0 MB/s eta 0:00:18\n",
      "     -------- ------------------------------- 9.4/44.4 MB 2.0 MB/s eta 0:00:18\n",
      "     -------- ------------------------------- 10.0/44.4 MB 2.0 MB/s eta 0:00:18\n",
      "     --------- ------------------------------ 10.2/44.4 MB 2.0 MB/s eta 0:00:18\n",
      "     --------- ------------------------------ 10.7/44.4 MB 2.0 MB/s eta 0:00:18\n",
      "     ---------- ----------------------------- 11.3/44.4 MB 2.0 MB/s eta 0:00:17\n",
      "     ---------- ----------------------------- 11.5/44.4 MB 2.0 MB/s eta 0:00:17\n",
      "     ---------- ----------------------------- 12.1/44.4 MB 2.0 MB/s eta 0:00:17\n",
      "     ----------- ---------------------------- 12.3/44.4 MB 2.0 MB/s eta 0:00:17\n",
      "     ----------- ---------------------------- 12.8/44.4 MB 2.0 MB/s eta 0:00:17\n",
      "     ----------- ---------------------------- 13.1/44.4 MB 2.0 MB/s eta 0:00:16\n",
      "     ------------ --------------------------- 13.6/44.4 MB 2.0 MB/s eta 0:00:16\n",
      "     ------------ --------------------------- 14.2/44.4 MB 2.0 MB/s eta 0:00:16\n",
      "     ------------ --------------------------- 14.4/44.4 MB 2.0 MB/s eta 0:00:16\n",
      "     ------------- -------------------------- 14.9/44.4 MB 2.0 MB/s eta 0:00:16\n",
      "     ------------- -------------------------- 15.2/44.4 MB 2.0 MB/s eta 0:00:15\n",
      "     -------------- ------------------------- 15.7/44.4 MB 2.0 MB/s eta 0:00:15\n",
      "     -------------- ------------------------- 16.0/44.4 MB 2.0 MB/s eta 0:00:15\n",
      "     -------------- ------------------------- 16.5/44.4 MB 2.0 MB/s eta 0:00:15\n",
      "     --------------- ------------------------ 17.0/44.4 MB 2.0 MB/s eta 0:00:14\n",
      "     --------------- ------------------------ 17.3/44.4 MB 2.0 MB/s eta 0:00:14\n",
      "     ---------------- ----------------------- 17.8/44.4 MB 2.0 MB/s eta 0:00:14\n",
      "     ---------------- ----------------------- 18.1/44.4 MB 2.0 MB/s eta 0:00:14\n",
      "     ---------------- ----------------------- 18.6/44.4 MB 2.0 MB/s eta 0:00:14\n",
      "     ----------------- ---------------------- 18.9/44.4 MB 2.0 MB/s eta 0:00:14\n",
      "     ----------------- ---------------------- 19.4/44.4 MB 2.0 MB/s eta 0:00:13\n",
      "     ----------------- ---------------------- 19.7/44.4 MB 2.0 MB/s eta 0:00:13\n",
      "     ----------------- ---------------------- 19.9/44.4 MB 2.0 MB/s eta 0:00:13\n",
      "     ------------------ --------------------- 20.2/44.4 MB 1.9 MB/s eta 0:00:13\n",
      "     ------------------ --------------------- 20.7/44.4 MB 1.9 MB/s eta 0:00:13\n",
      "     ------------------ --------------------- 21.0/44.4 MB 1.9 MB/s eta 0:00:13\n",
      "     ------------------- -------------------- 21.5/44.4 MB 1.9 MB/s eta 0:00:12\n",
      "     ------------------- -------------------- 21.8/44.4 MB 1.9 MB/s eta 0:00:12\n",
      "     -------------------- ------------------- 22.3/44.4 MB 1.9 MB/s eta 0:00:12\n",
      "     -------------------- ------------------- 22.5/44.4 MB 1.9 MB/s eta 0:00:12\n",
      "     -------------------- ------------------- 23.1/44.4 MB 1.9 MB/s eta 0:00:12\n",
      "     --------------------- ------------------ 23.6/44.4 MB 1.9 MB/s eta 0:00:11\n",
      "     --------------------- ------------------ 23.9/44.4 MB 1.9 MB/s eta 0:00:11\n",
      "     --------------------- ------------------ 24.4/44.4 MB 1.9 MB/s eta 0:00:11\n",
      "     ---------------------- ----------------- 24.6/44.4 MB 1.9 MB/s eta 0:00:11\n",
      "     ---------------------- ----------------- 25.2/44.4 MB 1.9 MB/s eta 0:00:10\n",
      "     ---------------------- ----------------- 25.4/44.4 MB 1.9 MB/s eta 0:00:10\n",
      "     ----------------------- ---------------- 26.0/44.4 MB 1.9 MB/s eta 0:00:10\n",
      "     ----------------------- ---------------- 26.5/44.4 MB 1.9 MB/s eta 0:00:10\n",
      "     ------------------------ --------------- 26.7/44.4 MB 1.9 MB/s eta 0:00:10\n",
      "     ------------------------ --------------- 27.3/44.4 MB 1.9 MB/s eta 0:00:09\n",
      "     ------------------------ --------------- 27.5/44.4 MB 1.9 MB/s eta 0:00:09\n",
      "     ------------------------- -------------- 28.0/44.4 MB 1.9 MB/s eta 0:00:09\n",
      "     ------------------------- -------------- 28.3/44.4 MB 1.9 MB/s eta 0:00:09\n",
      "     ------------------------- -------------- 28.8/44.4 MB 1.9 MB/s eta 0:00:09\n",
      "     -------------------------- ------------- 29.1/44.4 MB 1.9 MB/s eta 0:00:08\n",
      "     -------------------------- ------------- 29.6/44.4 MB 1.9 MB/s eta 0:00:08\n",
      "     --------------------------- ------------ 30.1/44.4 MB 1.9 MB/s eta 0:00:08\n",
      "     --------------------------- ------------ 30.4/44.4 MB 1.9 MB/s eta 0:00:08\n",
      "     --------------------------- ------------ 30.9/44.4 MB 1.9 MB/s eta 0:00:07\n",
      "     ---------------------------- ----------- 31.2/44.4 MB 1.9 MB/s eta 0:00:07\n",
      "     ---------------------------- ----------- 31.7/44.4 MB 1.9 MB/s eta 0:00:07\n",
      "     ----------------------------- ---------- 32.2/44.4 MB 1.9 MB/s eta 0:00:07\n",
      "     ----------------------------- ---------- 32.5/44.4 MB 1.9 MB/s eta 0:00:07\n",
      "     ----------------------------- ---------- 33.0/44.4 MB 1.9 MB/s eta 0:00:06\n",
      "     ----------------------------- ---------- 33.3/44.4 MB 1.9 MB/s eta 0:00:06\n",
      "     ------------------------------ --------- 33.8/44.4 MB 1.9 MB/s eta 0:00:06\n",
      "     ------------------------------ --------- 34.1/44.4 MB 1.9 MB/s eta 0:00:06\n",
      "     ------------------------------- -------- 34.6/44.4 MB 1.9 MB/s eta 0:00:06\n",
      "     ------------------------------- -------- 34.9/44.4 MB 1.9 MB/s eta 0:00:05\n",
      "     ------------------------------- -------- 35.4/44.4 MB 1.9 MB/s eta 0:00:05\n",
      "     -------------------------------- ------- 35.9/44.4 MB 1.9 MB/s eta 0:00:05\n",
      "     -------------------------------- ------- 36.2/44.4 MB 1.9 MB/s eta 0:00:05\n",
      "     --------------------------------- ------ 36.7/44.4 MB 1.9 MB/s eta 0:00:04\n",
      "     --------------------------------- ------ 37.0/44.4 MB 1.9 MB/s eta 0:00:04\n",
      "     --------------------------------- ------ 37.5/44.4 MB 1.9 MB/s eta 0:00:04\n",
      "     ---------------------------------- ----- 37.7/44.4 MB 1.9 MB/s eta 0:00:04\n",
      "     ---------------------------------- ----- 38.3/44.4 MB 1.9 MB/s eta 0:00:04\n",
      "     ---------------------------------- ----- 38.8/44.4 MB 1.9 MB/s eta 0:00:03\n",
      "     ----------------------------------- ---- 39.1/44.4 MB 1.9 MB/s eta 0:00:03\n",
      "     ----------------------------------- ---- 39.6/44.4 MB 1.9 MB/s eta 0:00:03\n",
      "     ----------------------------------- ---- 39.6/44.4 MB 1.9 MB/s eta 0:00:03\n",
      "     ----------------------------------- ---- 39.8/44.4 MB 1.9 MB/s eta 0:00:03\n",
      "     ------------------------------------ --- 40.4/44.4 MB 1.9 MB/s eta 0:00:03\n",
      "     ------------------------------------ --- 40.6/44.4 MB 1.9 MB/s eta 0:00:02\n",
      "     ------------------------------------- -- 41.2/44.4 MB 1.9 MB/s eta 0:00:02\n",
      "     ------------------------------------- -- 41.7/44.4 MB 1.9 MB/s eta 0:00:02\n",
      "     ------------------------------------- -- 41.9/44.4 MB 1.9 MB/s eta 0:00:02\n",
      "     -------------------------------------- - 42.5/44.4 MB 1.9 MB/s eta 0:00:01\n",
      "     -------------------------------------- - 42.7/44.4 MB 1.9 MB/s eta 0:00:01\n",
      "     -------------------------------------- - 43.3/44.4 MB 1.9 MB/s eta 0:00:01\n",
      "     ---------------------------------------  43.8/44.4 MB 1.9 MB/s eta 0:00:01\n",
      "     ---------------------------------------  44.0/44.4 MB 1.9 MB/s eta 0:00:01\n",
      "     ---------------------------------------- 44.4/44.4 MB 1.9 MB/s eta 0:00:00\n",
      "Requirement already satisfied: spacy<3.8.0,>=3.7.0 in .\\.venv\\lib\\site-packages (from de-core-news-md==3.7.0) (3.7.6)\n",
      "Requirement already satisfied: spacy-legacy<3.1.0,>=3.0.11 in .\\.venv\\lib\\site-packages (from spacy<3.8.0,>=3.7.0->de-core-news-md==3.7.0) (3.0.12)\n",
      "Requirement already satisfied: spacy-loggers<2.0.0,>=1.0.0 in .\\.venv\\lib\\site-packages (from spacy<3.8.0,>=3.7.0->de-core-news-md==3.7.0) (1.0.5)\n",
      "Requirement already satisfied: murmurhash<1.1.0,>=0.28.0 in .\\.venv\\lib\\site-packages (from spacy<3.8.0,>=3.7.0->de-core-news-md==3.7.0) (1.0.10)\n",
      "Requirement already satisfied: cymem<2.1.0,>=2.0.2 in .\\.venv\\lib\\site-packages (from spacy<3.8.0,>=3.7.0->de-core-news-md==3.7.0) (2.0.8)\n",
      "Requirement already satisfied: preshed<3.1.0,>=3.0.2 in .\\.venv\\lib\\site-packages (from spacy<3.8.0,>=3.7.0->de-core-news-md==3.7.0) (3.0.9)\n",
      "Requirement already satisfied: thinc<8.3.0,>=8.2.2 in .\\.venv\\lib\\site-packages (from spacy<3.8.0,>=3.7.0->de-core-news-md==3.7.0) (8.2.5)\n",
      "Requirement already satisfied: wasabi<1.2.0,>=0.9.1 in .\\.venv\\lib\\site-packages (from spacy<3.8.0,>=3.7.0->de-core-news-md==3.7.0) (1.1.3)\n",
      "Requirement already satisfied: srsly<3.0.0,>=2.4.3 in .\\.venv\\lib\\site-packages (from spacy<3.8.0,>=3.7.0->de-core-news-md==3.7.0) (2.4.8)\n",
      "Requirement already satisfied: catalogue<2.1.0,>=2.0.6 in .\\.venv\\lib\\site-packages (from spacy<3.8.0,>=3.7.0->de-core-news-md==3.7.0) (2.0.10)\n",
      "Requirement already satisfied: weasel<0.5.0,>=0.1.0 in .\\.venv\\lib\\site-packages (from spacy<3.8.0,>=3.7.0->de-core-news-md==3.7.0) (0.4.1)\n",
      "Requirement already satisfied: typer<1.0.0,>=0.3.0 in .\\.venv\\lib\\site-packages (from spacy<3.8.0,>=3.7.0->de-core-news-md==3.7.0) (0.12.5)\n",
      "Requirement already satisfied: tqdm<5.0.0,>=4.38.0 in .\\.venv\\lib\\site-packages (from spacy<3.8.0,>=3.7.0->de-core-news-md==3.7.0) (4.66.5)\n",
      "Requirement already satisfied: requests<3.0.0,>=2.13.0 in .\\.venv\\lib\\site-packages (from spacy<3.8.0,>=3.7.0->de-core-news-md==3.7.0) (2.32.3)\n",
      "Requirement already satisfied: pydantic!=1.8,!=1.8.1,<3.0.0,>=1.7.4 in .\\.venv\\lib\\site-packages (from spacy<3.8.0,>=3.7.0->de-core-news-md==3.7.0) (2.9.0)\n",
      "Requirement already satisfied: jinja2 in .\\.venv\\lib\\site-packages (from spacy<3.8.0,>=3.7.0->de-core-news-md==3.7.0) (3.1.4)\n",
      "Requirement already satisfied: setuptools in .\\.venv\\lib\\site-packages (from spacy<3.8.0,>=3.7.0->de-core-news-md==3.7.0) (65.5.0)\n",
      "Requirement already satisfied: packaging>=20.0 in .\\.venv\\lib\\site-packages (from spacy<3.8.0,>=3.7.0->de-core-news-md==3.7.0) (24.1)\n",
      "Requirement already satisfied: langcodes<4.0.0,>=3.2.0 in .\\.venv\\lib\\site-packages (from spacy<3.8.0,>=3.7.0->de-core-news-md==3.7.0) (3.4.0)\n",
      "Requirement already satisfied: numpy>=1.19.0 in .\\.venv\\lib\\site-packages (from spacy<3.8.0,>=3.7.0->de-core-news-md==3.7.0) (1.26.4)\n",
      "Requirement already satisfied: language-data>=1.2 in .\\.venv\\lib\\site-packages (from langcodes<4.0.0,>=3.2.0->spacy<3.8.0,>=3.7.0->de-core-news-md==3.7.0) (1.2.0)\n",
      "Requirement already satisfied: annotated-types>=0.4.0 in .\\.venv\\lib\\site-packages (from pydantic!=1.8,!=1.8.1,<3.0.0,>=1.7.4->spacy<3.8.0,>=3.7.0->de-core-news-md==3.7.0) (0.7.0)\n",
      "Requirement already satisfied: pydantic-core==2.23.2 in .\\.venv\\lib\\site-packages (from pydantic!=1.8,!=1.8.1,<3.0.0,>=1.7.4->spacy<3.8.0,>=3.7.0->de-core-news-md==3.7.0) (2.23.2)\n",
      "Requirement already satisfied: typing-extensions>=4.6.1 in .\\.venv\\lib\\site-packages (from pydantic!=1.8,!=1.8.1,<3.0.0,>=1.7.4->spacy<3.8.0,>=3.7.0->de-core-news-md==3.7.0) (4.12.2)\n",
      "Requirement already satisfied: tzdata in .\\.venv\\lib\\site-packages (from pydantic!=1.8,!=1.8.1,<3.0.0,>=1.7.4->spacy<3.8.0,>=3.7.0->de-core-news-md==3.7.0) (2024.1)\n",
      "Requirement already satisfied: charset-normalizer<4,>=2 in .\\.venv\\lib\\site-packages (from requests<3.0.0,>=2.13.0->spacy<3.8.0,>=3.7.0->de-core-news-md==3.7.0) (3.3.2)\n",
      "Requirement already satisfied: idna<4,>=2.5 in .\\.venv\\lib\\site-packages (from requests<3.0.0,>=2.13.0->spacy<3.8.0,>=3.7.0->de-core-news-md==3.7.0) (3.8)\n",
      "Requirement already satisfied: urllib3<3,>=1.21.1 in .\\.venv\\lib\\site-packages (from requests<3.0.0,>=2.13.0->spacy<3.8.0,>=3.7.0->de-core-news-md==3.7.0) (2.2.2)\n",
      "Requirement already satisfied: certifi>=2017.4.17 in .\\.venv\\lib\\site-packages (from requests<3.0.0,>=2.13.0->spacy<3.8.0,>=3.7.0->de-core-news-md==3.7.0) (2024.8.30)\n",
      "Requirement already satisfied: blis<0.8.0,>=0.7.8 in .\\.venv\\lib\\site-packages (from thinc<8.3.0,>=8.2.2->spacy<3.8.0,>=3.7.0->de-core-news-md==3.7.0) (0.7.11)\n",
      "Requirement already satisfied: confection<1.0.0,>=0.0.1 in .\\.venv\\lib\\site-packages (from thinc<8.3.0,>=8.2.2->spacy<3.8.0,>=3.7.0->de-core-news-md==3.7.0) (0.1.5)\n",
      "Requirement already satisfied: colorama in .\\.venv\\lib\\site-packages (from tqdm<5.0.0,>=4.38.0->spacy<3.8.0,>=3.7.0->de-core-news-md==3.7.0) (0.4.6)\n",
      "Requirement already satisfied: click>=8.0.0 in .\\.venv\\lib\\site-packages (from typer<1.0.0,>=0.3.0->spacy<3.8.0,>=3.7.0->de-core-news-md==3.7.0) (8.1.7)\n",
      "Requirement already satisfied: shellingham>=1.3.0 in .\\.venv\\lib\\site-packages (from typer<1.0.0,>=0.3.0->spacy<3.8.0,>=3.7.0->de-core-news-md==3.7.0) (1.5.4)\n",
      "Requirement already satisfied: rich>=10.11.0 in .\\.venv\\lib\\site-packages (from typer<1.0.0,>=0.3.0->spacy<3.8.0,>=3.7.0->de-core-news-md==3.7.0) (13.8.0)\n",
      "Requirement already satisfied: cloudpathlib<1.0.0,>=0.7.0 in .\\.venv\\lib\\site-packages (from weasel<0.5.0,>=0.1.0->spacy<3.8.0,>=3.7.0->de-core-news-md==3.7.0) (0.19.0)\n",
      "Requirement already satisfied: smart-open<8.0.0,>=5.2.1 in .\\.venv\\lib\\site-packages (from weasel<0.5.0,>=0.1.0->spacy<3.8.0,>=3.7.0->de-core-news-md==3.7.0) (7.0.4)\n",
      "Requirement already satisfied: MarkupSafe>=2.0 in .\\.venv\\lib\\site-packages (from jinja2->spacy<3.8.0,>=3.7.0->de-core-news-md==3.7.0) (2.1.5)\n",
      "Requirement already satisfied: marisa-trie>=0.7.7 in .\\.venv\\lib\\site-packages (from language-data>=1.2->langcodes<4.0.0,>=3.2.0->spacy<3.8.0,>=3.7.0->de-core-news-md==3.7.0) (1.2.0)\n",
      "Requirement already satisfied: markdown-it-py>=2.2.0 in .\\.venv\\lib\\site-packages (from rich>=10.11.0->typer<1.0.0,>=0.3.0->spacy<3.8.0,>=3.7.0->de-core-news-md==3.7.0) (3.0.0)\n",
      "Requirement already satisfied: pygments<3.0.0,>=2.13.0 in .\\.venv\\lib\\site-packages (from rich>=10.11.0->typer<1.0.0,>=0.3.0->spacy<3.8.0,>=3.7.0->de-core-news-md==3.7.0) (2.18.0)\n",
      "Requirement already satisfied: wrapt in .\\.venv\\lib\\site-packages (from smart-open<8.0.0,>=5.2.1->weasel<0.5.0,>=0.1.0->spacy<3.8.0,>=3.7.0->de-core-news-md==3.7.0) (1.16.0)\n",
      "Requirement already satisfied: mdurl~=0.1 in .\\.venv\\lib\\site-packages (from markdown-it-py>=2.2.0->rich>=10.11.0->typer<1.0.0,>=0.3.0->spacy<3.8.0,>=3.7.0->de-core-news-md==3.7.0) (0.1.2)\n",
      "Installing collected packages: de-core-news-md\n",
      "Successfully installed de-core-news-md-3.7.0\n",
      "\u001b[38;5;2m✔ Download and installation successful\u001b[0m\n",
      "You can now load the package via spacy.load('de_core_news_md')\n"
     ]
    }
   ],
   "source": [
    "!python -m spacy download de_core_news_md\n",
    "# spacy_de = spacy.load('de_core_news_md')\n",
    "# spacy_en = spacy.load('en_core_web_md')"
   ]
  },
  {
   "cell_type": "code",
   "execution_count": 61,
   "metadata": {},
   "outputs": [],
   "source": [
    "\n",
    "#nlp = spacy.load('de') \n",
    "from spacy.tokenizer import Tokenizer\n",
    "# 'de_core_news_md' 是 spaCy 提供的一个中等大小的德语模型，包含了词向量（word vectors）\n",
    "nlp = spacy.load('de_core_news_md')  # sm models don’t ship with word vectors\n",
    "# 创建一个德语分词器\n",
    "# tok = spacy.lang.de.German().Defaults.create_tokenizer(nlp)\n",
    "tok = Tokenizer(nlp.vocab)\n",
    "stopwords = nlp.Defaults.stop_words\n",
    "\n",
    "'''\n",
    "    re_stop_words = re.compile(r\"\\b(\" + \"|\".join(stopwords) + \")\\\\W\", re.I):\n",
    "        这一行用正则表达式编译了一个用于匹配停用词的模式。\n",
    "            re.compile() 用于编译一个正则表达式模式以便后续更高效的匹配。\n",
    "            r\"\\b(\" + \"|\".join(stopwords) + \")\\\\W\" 创建了一个正则表达式模式：\n",
    "            \\b 表示单词边界，这确保匹配的是完整的词。\n",
    "            (\"|\".join(stopwords)) 将所有的停用词通过管道符（|）连接成一个可供选择的列表形式。\n",
    "            \\\\W 匹配一个非单词字符，确保停用词之后不是另一个词的一部分。\n",
    "            re.I 表示忽略大小写，将匹配变为不区分大小写。       \n",
    "'''\n",
    "re_stop_words = re.compile(r\"\\b(\" + \"|\".join(stopwords) + \")\\\\W\", re.I)\n",
    "\n",
    "# 德语词干提取器\n",
    "stemmer = SnowballStemmer(\"german\")"
   ]
  },
  {
   "cell_type": "code",
   "execution_count": 62,
   "metadata": {},
   "outputs": [],
   "source": [
    "train_df['clean_blurb'] = train_df['blurb']\\\n",
    "    .apply(lambda x: stemming(x, stemmer))\\\n",
    "    .apply(lambda x: removeStopWords(x, re_stop_words))\\\n",
    "    .apply(lambda x: cleanPunc(x))\n",
    "\n",
    "val_df['clean_blurb'] = val_df['blurb']\\\n",
    "    .apply(lambda x: stemming(x, stemmer))\\\n",
    "    .apply(lambda x: removeStopWords(x, re_stop_words))\\\n",
    "    .apply(lambda x: cleanPunc(x))"
   ]
  },
  {
   "cell_type": "code",
   "execution_count": 63,
   "metadata": {},
   "outputs": [],
   "source": [
    "def displayInfo1(df):\n",
    "\n",
    "    categories = list(df.iloc[:,1:].columns.values)\n",
    "    sns.set(font_scale = 1)\n",
    "    plt.figure(figsize=(15,8))\n",
    "\n",
    "    #ax= sns.barplot(categories, df.iloc[:,2:].sum().values)\n",
    "    ax= sns.barplot(categories, df.iloc[:,1:].sum().values)\n",
    "    \n",
    "    plt.title(\"Blurbs in each category\", fontsize=24)\n",
    "    plt.ylabel('Number of blurbs', fontsize=18)\n",
    "    plt.xlabel('Blurb Type ', fontsize=18)\n",
    "\n",
    "    #adding the text labels\n",
    "    rects = ax.patches\n",
    "    labels = df.iloc[:,1:].sum().values\n",
    "    for rect, label in zip(rects, labels):\n",
    "        height = rect.get_height()\n",
    "        ax.text(rect.get_x() + rect.get_width()/2, height + 5, label, ha='center', va='bottom', fontsize=18)\n",
    "\n",
    "    plt.show()"
   ]
  },
  {
   "cell_type": "code",
   "execution_count": 64,
   "metadata": {},
   "outputs": [],
   "source": [
    "def displayInfo2(df):\n",
    "\n",
    "    # note to self: if we want to include this plot in the paper, guess it would be nicer to also include single-label blurbs (currently it seems to display only those blurbs having multiple labels)\n",
    "\n",
    "    rowSums = df.iloc[:,1:].sum(axis=1)\n",
    "    multiLabel_counts = rowSums.value_counts()\n",
    "    multiLabel_counts = multiLabel_counts.iloc[1:]\n",
    "\n",
    "    sns.set(font_scale = 1)\n",
    "    plt.figure(figsize=(15,8))\n",
    "\n",
    "    ax = sns.barplot(multiLabel_counts.index, multiLabel_counts.values)\n",
    "\n",
    "    plt.title(\"Blurbs having multiple labels \")\n",
    "    plt.ylabel('Number of blurbs', fontsize=18)\n",
    "    plt.xlabel('Number of labels', fontsize=18)\n",
    "\n",
    "    #adding the text labels\n",
    "    rects = ax.patches\n",
    "    labels = multiLabel_counts.values\n",
    "    for rect, label in zip(rects, labels):\n",
    "        height = rect.get_height()\n",
    "        ax.text(rect.get_x() + rect.get_width()/2, height + 5, label, ha='center', va='bottom')\n",
    "\n",
    "    plt.show()"
   ]
  },
  {
   "cell_type": "code",
   "execution_count": 65,
   "metadata": {},
   "outputs": [
    {
     "ename": "TypeError",
     "evalue": "unsupported operand type(s) for +: 'int' and 'str'",
     "output_type": "error",
     "traceback": [
      "\u001b[1;31m---------------------------------------------------------------------------\u001b[0m",
      "\u001b[1;31mTypeError\u001b[0m                                 Traceback (most recent call last)",
      "Cell \u001b[1;32mIn[65], line 3\u001b[0m\n\u001b[0;32m      1\u001b[0m \u001b[38;5;66;03m#displayInfo1(val_df)  # does not work\u001b[39;00m\n\u001b[1;32m----> 3\u001b[0m \u001b[43mdisplayInfo2\u001b[49m\u001b[43m(\u001b[49m\u001b[43mval_df\u001b[49m\u001b[43m)\u001b[49m\n",
      "Cell \u001b[1;32mIn[64], line 5\u001b[0m, in \u001b[0;36mdisplayInfo2\u001b[1;34m(df)\u001b[0m\n\u001b[0;32m      1\u001b[0m \u001b[38;5;28;01mdef\u001b[39;00m \u001b[38;5;21mdisplayInfo2\u001b[39m(df):\n\u001b[0;32m      2\u001b[0m \n\u001b[0;32m      3\u001b[0m     \u001b[38;5;66;03m# note to self: if we want to include this plot in the paper, guess it would be nicer to also include single-label blurbs (currently it seems to display only those blurbs having multiple labels)\u001b[39;00m\n\u001b[1;32m----> 5\u001b[0m     rowSums \u001b[38;5;241m=\u001b[39m \u001b[43mdf\u001b[49m\u001b[38;5;241;43m.\u001b[39;49m\u001b[43miloc\u001b[49m\u001b[43m[\u001b[49m\u001b[43m:\u001b[49m\u001b[43m,\u001b[49m\u001b[38;5;241;43m1\u001b[39;49m\u001b[43m:\u001b[49m\u001b[43m]\u001b[49m\u001b[38;5;241;43m.\u001b[39;49m\u001b[43msum\u001b[49m\u001b[43m(\u001b[49m\u001b[43maxis\u001b[49m\u001b[38;5;241;43m=\u001b[39;49m\u001b[38;5;241;43m1\u001b[39;49m\u001b[43m)\u001b[49m\n\u001b[0;32m      6\u001b[0m     multiLabel_counts \u001b[38;5;241m=\u001b[39m rowSums\u001b[38;5;241m.\u001b[39mvalue_counts()\n\u001b[0;32m      7\u001b[0m     multiLabel_counts \u001b[38;5;241m=\u001b[39m multiLabel_counts\u001b[38;5;241m.\u001b[39miloc[\u001b[38;5;241m1\u001b[39m:]\n",
      "File \u001b[1;32md:\\ai-code\\bert-projects\\bert-document-classification-reproduce\\.venv\\lib\\site-packages\\pandas\\core\\frame.py:11670\u001b[0m, in \u001b[0;36mDataFrame.sum\u001b[1;34m(self, axis, skipna, numeric_only, min_count, **kwargs)\u001b[0m\n\u001b[0;32m  11661\u001b[0m \u001b[38;5;129m@doc\u001b[39m(make_doc(\u001b[38;5;124m\"\u001b[39m\u001b[38;5;124msum\u001b[39m\u001b[38;5;124m\"\u001b[39m, ndim\u001b[38;5;241m=\u001b[39m\u001b[38;5;241m2\u001b[39m))\n\u001b[0;32m  11662\u001b[0m \u001b[38;5;28;01mdef\u001b[39;00m \u001b[38;5;21msum\u001b[39m(\n\u001b[0;32m  11663\u001b[0m     \u001b[38;5;28mself\u001b[39m,\n\u001b[1;32m   (...)\u001b[0m\n\u001b[0;32m  11668\u001b[0m     \u001b[38;5;241m*\u001b[39m\u001b[38;5;241m*\u001b[39mkwargs,\n\u001b[0;32m  11669\u001b[0m ):\n\u001b[1;32m> 11670\u001b[0m     result \u001b[38;5;241m=\u001b[39m \u001b[38;5;28msuper\u001b[39m()\u001b[38;5;241m.\u001b[39msum(axis, skipna, numeric_only, min_count, \u001b[38;5;241m*\u001b[39m\u001b[38;5;241m*\u001b[39mkwargs)\n\u001b[0;32m  11671\u001b[0m     \u001b[38;5;28;01mreturn\u001b[39;00m result\u001b[38;5;241m.\u001b[39m__finalize__(\u001b[38;5;28mself\u001b[39m, method\u001b[38;5;241m=\u001b[39m\u001b[38;5;124m\"\u001b[39m\u001b[38;5;124msum\u001b[39m\u001b[38;5;124m\"\u001b[39m)\n",
      "File \u001b[1;32md:\\ai-code\\bert-projects\\bert-document-classification-reproduce\\.venv\\lib\\site-packages\\pandas\\core\\generic.py:12506\u001b[0m, in \u001b[0;36mNDFrame.sum\u001b[1;34m(self, axis, skipna, numeric_only, min_count, **kwargs)\u001b[0m\n\u001b[0;32m  12498\u001b[0m \u001b[38;5;28;01mdef\u001b[39;00m \u001b[38;5;21msum\u001b[39m(\n\u001b[0;32m  12499\u001b[0m     \u001b[38;5;28mself\u001b[39m,\n\u001b[0;32m  12500\u001b[0m     axis: Axis \u001b[38;5;241m|\u001b[39m \u001b[38;5;28;01mNone\u001b[39;00m \u001b[38;5;241m=\u001b[39m \u001b[38;5;241m0\u001b[39m,\n\u001b[1;32m   (...)\u001b[0m\n\u001b[0;32m  12504\u001b[0m     \u001b[38;5;241m*\u001b[39m\u001b[38;5;241m*\u001b[39mkwargs,\n\u001b[0;32m  12505\u001b[0m ):\n\u001b[1;32m> 12506\u001b[0m     \u001b[38;5;28;01mreturn\u001b[39;00m \u001b[38;5;28mself\u001b[39m\u001b[38;5;241m.\u001b[39m_min_count_stat_function(\n\u001b[0;32m  12507\u001b[0m         \u001b[38;5;124m\"\u001b[39m\u001b[38;5;124msum\u001b[39m\u001b[38;5;124m\"\u001b[39m, nanops\u001b[38;5;241m.\u001b[39mnansum, axis, skipna, numeric_only, min_count, \u001b[38;5;241m*\u001b[39m\u001b[38;5;241m*\u001b[39mkwargs\n\u001b[0;32m  12508\u001b[0m     )\n",
      "File \u001b[1;32md:\\ai-code\\bert-projects\\bert-document-classification-reproduce\\.venv\\lib\\site-packages\\pandas\\core\\generic.py:12489\u001b[0m, in \u001b[0;36mNDFrame._min_count_stat_function\u001b[1;34m(self, name, func, axis, skipna, numeric_only, min_count, **kwargs)\u001b[0m\n\u001b[0;32m  12486\u001b[0m \u001b[38;5;28;01melif\u001b[39;00m axis \u001b[38;5;129;01mis\u001b[39;00m lib\u001b[38;5;241m.\u001b[39mno_default:\n\u001b[0;32m  12487\u001b[0m     axis \u001b[38;5;241m=\u001b[39m \u001b[38;5;241m0\u001b[39m\n\u001b[1;32m> 12489\u001b[0m \u001b[38;5;28;01mreturn\u001b[39;00m \u001b[38;5;28;43mself\u001b[39;49m\u001b[38;5;241;43m.\u001b[39;49m\u001b[43m_reduce\u001b[49m\u001b[43m(\u001b[49m\n\u001b[0;32m  12490\u001b[0m \u001b[43m    \u001b[49m\u001b[43mfunc\u001b[49m\u001b[43m,\u001b[49m\n\u001b[0;32m  12491\u001b[0m \u001b[43m    \u001b[49m\u001b[43mname\u001b[49m\u001b[38;5;241;43m=\u001b[39;49m\u001b[43mname\u001b[49m\u001b[43m,\u001b[49m\n\u001b[0;32m  12492\u001b[0m \u001b[43m    \u001b[49m\u001b[43maxis\u001b[49m\u001b[38;5;241;43m=\u001b[39;49m\u001b[43maxis\u001b[49m\u001b[43m,\u001b[49m\n\u001b[0;32m  12493\u001b[0m \u001b[43m    \u001b[49m\u001b[43mskipna\u001b[49m\u001b[38;5;241;43m=\u001b[39;49m\u001b[43mskipna\u001b[49m\u001b[43m,\u001b[49m\n\u001b[0;32m  12494\u001b[0m \u001b[43m    \u001b[49m\u001b[43mnumeric_only\u001b[49m\u001b[38;5;241;43m=\u001b[39;49m\u001b[43mnumeric_only\u001b[49m\u001b[43m,\u001b[49m\n\u001b[0;32m  12495\u001b[0m \u001b[43m    \u001b[49m\u001b[43mmin_count\u001b[49m\u001b[38;5;241;43m=\u001b[39;49m\u001b[43mmin_count\u001b[49m\u001b[43m,\u001b[49m\n\u001b[0;32m  12496\u001b[0m \u001b[43m\u001b[49m\u001b[43m)\u001b[49m\n",
      "File \u001b[1;32md:\\ai-code\\bert-projects\\bert-document-classification-reproduce\\.venv\\lib\\site-packages\\pandas\\core\\frame.py:11562\u001b[0m, in \u001b[0;36mDataFrame._reduce\u001b[1;34m(self, op, name, axis, skipna, numeric_only, filter_type, **kwds)\u001b[0m\n\u001b[0;32m  11558\u001b[0m     df \u001b[38;5;241m=\u001b[39m df\u001b[38;5;241m.\u001b[39mT\n\u001b[0;32m  11560\u001b[0m \u001b[38;5;66;03m# After possibly _get_data and transposing, we are now in the\u001b[39;00m\n\u001b[0;32m  11561\u001b[0m \u001b[38;5;66;03m#  simple case where we can use BlockManager.reduce\u001b[39;00m\n\u001b[1;32m> 11562\u001b[0m res \u001b[38;5;241m=\u001b[39m \u001b[43mdf\u001b[49m\u001b[38;5;241;43m.\u001b[39;49m\u001b[43m_mgr\u001b[49m\u001b[38;5;241;43m.\u001b[39;49m\u001b[43mreduce\u001b[49m\u001b[43m(\u001b[49m\u001b[43mblk_func\u001b[49m\u001b[43m)\u001b[49m\n\u001b[0;32m  11563\u001b[0m out \u001b[38;5;241m=\u001b[39m df\u001b[38;5;241m.\u001b[39m_constructor_from_mgr(res, axes\u001b[38;5;241m=\u001b[39mres\u001b[38;5;241m.\u001b[39maxes)\u001b[38;5;241m.\u001b[39miloc[\u001b[38;5;241m0\u001b[39m]\n\u001b[0;32m  11564\u001b[0m \u001b[38;5;28;01mif\u001b[39;00m out_dtype \u001b[38;5;129;01mis\u001b[39;00m \u001b[38;5;129;01mnot\u001b[39;00m \u001b[38;5;28;01mNone\u001b[39;00m \u001b[38;5;129;01mand\u001b[39;00m out\u001b[38;5;241m.\u001b[39mdtype \u001b[38;5;241m!=\u001b[39m \u001b[38;5;124m\"\u001b[39m\u001b[38;5;124mboolean\u001b[39m\u001b[38;5;124m\"\u001b[39m:\n",
      "File \u001b[1;32md:\\ai-code\\bert-projects\\bert-document-classification-reproduce\\.venv\\lib\\site-packages\\pandas\\core\\internals\\managers.py:1500\u001b[0m, in \u001b[0;36mBlockManager.reduce\u001b[1;34m(self, func)\u001b[0m\n\u001b[0;32m   1498\u001b[0m res_blocks: \u001b[38;5;28mlist\u001b[39m[Block] \u001b[38;5;241m=\u001b[39m []\n\u001b[0;32m   1499\u001b[0m \u001b[38;5;28;01mfor\u001b[39;00m blk \u001b[38;5;129;01min\u001b[39;00m \u001b[38;5;28mself\u001b[39m\u001b[38;5;241m.\u001b[39mblocks:\n\u001b[1;32m-> 1500\u001b[0m     nbs \u001b[38;5;241m=\u001b[39m \u001b[43mblk\u001b[49m\u001b[38;5;241;43m.\u001b[39;49m\u001b[43mreduce\u001b[49m\u001b[43m(\u001b[49m\u001b[43mfunc\u001b[49m\u001b[43m)\u001b[49m\n\u001b[0;32m   1501\u001b[0m     res_blocks\u001b[38;5;241m.\u001b[39mextend(nbs)\n\u001b[0;32m   1503\u001b[0m index \u001b[38;5;241m=\u001b[39m Index([\u001b[38;5;28;01mNone\u001b[39;00m])  \u001b[38;5;66;03m# placeholder\u001b[39;00m\n",
      "File \u001b[1;32md:\\ai-code\\bert-projects\\bert-document-classification-reproduce\\.venv\\lib\\site-packages\\pandas\\core\\internals\\blocks.py:404\u001b[0m, in \u001b[0;36mBlock.reduce\u001b[1;34m(self, func)\u001b[0m\n\u001b[0;32m    398\u001b[0m \u001b[38;5;129m@final\u001b[39m\n\u001b[0;32m    399\u001b[0m \u001b[38;5;28;01mdef\u001b[39;00m \u001b[38;5;21mreduce\u001b[39m(\u001b[38;5;28mself\u001b[39m, func) \u001b[38;5;241m-\u001b[39m\u001b[38;5;241m>\u001b[39m \u001b[38;5;28mlist\u001b[39m[Block]:\n\u001b[0;32m    400\u001b[0m     \u001b[38;5;66;03m# We will apply the function and reshape the result into a single-row\u001b[39;00m\n\u001b[0;32m    401\u001b[0m     \u001b[38;5;66;03m#  Block with the same mgr_locs; squeezing will be done at a higher level\u001b[39;00m\n\u001b[0;32m    402\u001b[0m     \u001b[38;5;28;01massert\u001b[39;00m \u001b[38;5;28mself\u001b[39m\u001b[38;5;241m.\u001b[39mndim \u001b[38;5;241m==\u001b[39m \u001b[38;5;241m2\u001b[39m\n\u001b[1;32m--> 404\u001b[0m     result \u001b[38;5;241m=\u001b[39m \u001b[43mfunc\u001b[49m\u001b[43m(\u001b[49m\u001b[38;5;28;43mself\u001b[39;49m\u001b[38;5;241;43m.\u001b[39;49m\u001b[43mvalues\u001b[49m\u001b[43m)\u001b[49m\n\u001b[0;32m    406\u001b[0m     \u001b[38;5;28;01mif\u001b[39;00m \u001b[38;5;28mself\u001b[39m\u001b[38;5;241m.\u001b[39mvalues\u001b[38;5;241m.\u001b[39mndim \u001b[38;5;241m==\u001b[39m \u001b[38;5;241m1\u001b[39m:\n\u001b[0;32m    407\u001b[0m         res_values \u001b[38;5;241m=\u001b[39m result\n",
      "File \u001b[1;32md:\\ai-code\\bert-projects\\bert-document-classification-reproduce\\.venv\\lib\\site-packages\\pandas\\core\\frame.py:11481\u001b[0m, in \u001b[0;36mDataFrame._reduce.<locals>.blk_func\u001b[1;34m(values, axis)\u001b[0m\n\u001b[0;32m  11479\u001b[0m         \u001b[38;5;28;01mreturn\u001b[39;00m np\u001b[38;5;241m.\u001b[39marray([result])\n\u001b[0;32m  11480\u001b[0m \u001b[38;5;28;01melse\u001b[39;00m:\n\u001b[1;32m> 11481\u001b[0m     \u001b[38;5;28;01mreturn\u001b[39;00m op(values, axis\u001b[38;5;241m=\u001b[39maxis, skipna\u001b[38;5;241m=\u001b[39mskipna, \u001b[38;5;241m*\u001b[39m\u001b[38;5;241m*\u001b[39mkwds)\n",
      "File \u001b[1;32md:\\ai-code\\bert-projects\\bert-document-classification-reproduce\\.venv\\lib\\site-packages\\pandas\\core\\nanops.py:85\u001b[0m, in \u001b[0;36mdisallow.__call__.<locals>._f\u001b[1;34m(*args, **kwargs)\u001b[0m\n\u001b[0;32m     81\u001b[0m     \u001b[38;5;28;01mraise\u001b[39;00m \u001b[38;5;167;01mTypeError\u001b[39;00m(\n\u001b[0;32m     82\u001b[0m         \u001b[38;5;124mf\u001b[39m\u001b[38;5;124m\"\u001b[39m\u001b[38;5;124mreduction operation \u001b[39m\u001b[38;5;124m'\u001b[39m\u001b[38;5;132;01m{\u001b[39;00mf_name\u001b[38;5;132;01m}\u001b[39;00m\u001b[38;5;124m'\u001b[39m\u001b[38;5;124m not allowed for this dtype\u001b[39m\u001b[38;5;124m\"\u001b[39m\n\u001b[0;32m     83\u001b[0m     )\n\u001b[0;32m     84\u001b[0m \u001b[38;5;28;01mtry\u001b[39;00m:\n\u001b[1;32m---> 85\u001b[0m     \u001b[38;5;28;01mreturn\u001b[39;00m f(\u001b[38;5;241m*\u001b[39margs, \u001b[38;5;241m*\u001b[39m\u001b[38;5;241m*\u001b[39mkwargs)\n\u001b[0;32m     86\u001b[0m \u001b[38;5;28;01mexcept\u001b[39;00m \u001b[38;5;167;01mValueError\u001b[39;00m \u001b[38;5;28;01mas\u001b[39;00m e:\n\u001b[0;32m     87\u001b[0m     \u001b[38;5;66;03m# we want to transform an object array\u001b[39;00m\n\u001b[0;32m     88\u001b[0m     \u001b[38;5;66;03m# ValueError message to the more typical TypeError\u001b[39;00m\n\u001b[0;32m     89\u001b[0m     \u001b[38;5;66;03m# e.g. this is normally a disallowed function on\u001b[39;00m\n\u001b[0;32m     90\u001b[0m     \u001b[38;5;66;03m# object arrays that contain strings\u001b[39;00m\n\u001b[0;32m     91\u001b[0m     \u001b[38;5;28;01mif\u001b[39;00m is_object_dtype(args[\u001b[38;5;241m0\u001b[39m]):\n",
      "File \u001b[1;32md:\\ai-code\\bert-projects\\bert-document-classification-reproduce\\.venv\\lib\\site-packages\\pandas\\core\\nanops.py:404\u001b[0m, in \u001b[0;36m_datetimelike_compat.<locals>.new_func\u001b[1;34m(values, axis, skipna, mask, **kwargs)\u001b[0m\n\u001b[0;32m    401\u001b[0m \u001b[38;5;28;01mif\u001b[39;00m datetimelike \u001b[38;5;129;01mand\u001b[39;00m mask \u001b[38;5;129;01mis\u001b[39;00m \u001b[38;5;28;01mNone\u001b[39;00m:\n\u001b[0;32m    402\u001b[0m     mask \u001b[38;5;241m=\u001b[39m isna(values)\n\u001b[1;32m--> 404\u001b[0m result \u001b[38;5;241m=\u001b[39m func(values, axis\u001b[38;5;241m=\u001b[39maxis, skipna\u001b[38;5;241m=\u001b[39mskipna, mask\u001b[38;5;241m=\u001b[39mmask, \u001b[38;5;241m*\u001b[39m\u001b[38;5;241m*\u001b[39mkwargs)\n\u001b[0;32m    406\u001b[0m \u001b[38;5;28;01mif\u001b[39;00m datetimelike:\n\u001b[0;32m    407\u001b[0m     result \u001b[38;5;241m=\u001b[39m _wrap_results(result, orig_values\u001b[38;5;241m.\u001b[39mdtype, fill_value\u001b[38;5;241m=\u001b[39miNaT)\n",
      "File \u001b[1;32md:\\ai-code\\bert-projects\\bert-document-classification-reproduce\\.venv\\lib\\site-packages\\pandas\\core\\nanops.py:477\u001b[0m, in \u001b[0;36mmaybe_operate_rowwise.<locals>.newfunc\u001b[1;34m(values, axis, **kwargs)\u001b[0m\n\u001b[0;32m    474\u001b[0m         results \u001b[38;5;241m=\u001b[39m [func(x, \u001b[38;5;241m*\u001b[39m\u001b[38;5;241m*\u001b[39mkwargs) \u001b[38;5;28;01mfor\u001b[39;00m x \u001b[38;5;129;01min\u001b[39;00m arrs]\n\u001b[0;32m    475\u001b[0m     \u001b[38;5;28;01mreturn\u001b[39;00m np\u001b[38;5;241m.\u001b[39marray(results)\n\u001b[1;32m--> 477\u001b[0m \u001b[38;5;28;01mreturn\u001b[39;00m func(values, axis\u001b[38;5;241m=\u001b[39maxis, \u001b[38;5;241m*\u001b[39m\u001b[38;5;241m*\u001b[39mkwargs)\n",
      "File \u001b[1;32md:\\ai-code\\bert-projects\\bert-document-classification-reproduce\\.venv\\lib\\site-packages\\pandas\\core\\nanops.py:646\u001b[0m, in \u001b[0;36mnansum\u001b[1;34m(values, axis, skipna, min_count, mask)\u001b[0m\n\u001b[0;32m    643\u001b[0m \u001b[38;5;28;01melif\u001b[39;00m dtype\u001b[38;5;241m.\u001b[39mkind \u001b[38;5;241m==\u001b[39m \u001b[38;5;124m\"\u001b[39m\u001b[38;5;124mm\u001b[39m\u001b[38;5;124m\"\u001b[39m:\n\u001b[0;32m    644\u001b[0m     dtype_sum \u001b[38;5;241m=\u001b[39m np\u001b[38;5;241m.\u001b[39mdtype(np\u001b[38;5;241m.\u001b[39mfloat64)\n\u001b[1;32m--> 646\u001b[0m the_sum \u001b[38;5;241m=\u001b[39m \u001b[43mvalues\u001b[49m\u001b[38;5;241;43m.\u001b[39;49m\u001b[43msum\u001b[49m\u001b[43m(\u001b[49m\u001b[43maxis\u001b[49m\u001b[43m,\u001b[49m\u001b[43m \u001b[49m\u001b[43mdtype\u001b[49m\u001b[38;5;241;43m=\u001b[39;49m\u001b[43mdtype_sum\u001b[49m\u001b[43m)\u001b[49m\n\u001b[0;32m    647\u001b[0m the_sum \u001b[38;5;241m=\u001b[39m _maybe_null_out(the_sum, axis, mask, values\u001b[38;5;241m.\u001b[39mshape, min_count\u001b[38;5;241m=\u001b[39mmin_count)\n\u001b[0;32m    649\u001b[0m \u001b[38;5;28;01mreturn\u001b[39;00m the_sum\n",
      "File \u001b[1;32md:\\ai-code\\bert-projects\\bert-document-classification-reproduce\\.venv\\lib\\site-packages\\numpy\\core\\_methods.py:49\u001b[0m, in \u001b[0;36m_sum\u001b[1;34m(a, axis, dtype, out, keepdims, initial, where)\u001b[0m\n\u001b[0;32m     47\u001b[0m \u001b[38;5;28;01mdef\u001b[39;00m \u001b[38;5;21m_sum\u001b[39m(a, axis\u001b[38;5;241m=\u001b[39m\u001b[38;5;28;01mNone\u001b[39;00m, dtype\u001b[38;5;241m=\u001b[39m\u001b[38;5;28;01mNone\u001b[39;00m, out\u001b[38;5;241m=\u001b[39m\u001b[38;5;28;01mNone\u001b[39;00m, keepdims\u001b[38;5;241m=\u001b[39m\u001b[38;5;28;01mFalse\u001b[39;00m,\n\u001b[0;32m     48\u001b[0m          initial\u001b[38;5;241m=\u001b[39m_NoValue, where\u001b[38;5;241m=\u001b[39m\u001b[38;5;28;01mTrue\u001b[39;00m):\n\u001b[1;32m---> 49\u001b[0m     \u001b[38;5;28;01mreturn\u001b[39;00m \u001b[43mumr_sum\u001b[49m\u001b[43m(\u001b[49m\u001b[43ma\u001b[49m\u001b[43m,\u001b[49m\u001b[43m \u001b[49m\u001b[43maxis\u001b[49m\u001b[43m,\u001b[49m\u001b[43m \u001b[49m\u001b[43mdtype\u001b[49m\u001b[43m,\u001b[49m\u001b[43m \u001b[49m\u001b[43mout\u001b[49m\u001b[43m,\u001b[49m\u001b[43m \u001b[49m\u001b[43mkeepdims\u001b[49m\u001b[43m,\u001b[49m\u001b[43m \u001b[49m\u001b[43minitial\u001b[49m\u001b[43m,\u001b[49m\u001b[43m \u001b[49m\u001b[43mwhere\u001b[49m\u001b[43m)\u001b[49m\n",
      "\u001b[1;31mTypeError\u001b[0m: unsupported operand type(s) for +: 'int' and 'str'"
     ]
    }
   ],
   "source": [
    "#displayInfo1(val_df)  # does not work\n",
    "\n",
    "displayInfo2(val_df)"
   ]
  },
  {
   "cell_type": "markdown",
   "metadata": {},
   "source": [
    "### Baseline"
   ]
  },
  {
   "cell_type": "code",
   "execution_count": 66,
   "metadata": {},
   "outputs": [],
   "source": [
    "from sklearn.feature_extraction.text import TfidfVectorizer\n",
    "vectorizer = TfidfVectorizer(strip_accents='unicode', analyzer='word', ngram_range=(1,4), norm='l2', max_features=10000)\n",
    "\n",
    "#train_x = train_df.blurb\n",
    "train_x = train_df.clean_blurb\n",
    "\n",
    "train_y = train_df.iloc[:,1:-1]\n",
    "#val_x = val_df.blurb\n",
    "val_x = val_df.clean_blurb\n",
    "\n",
    "val_y = val_df.iloc[:,1:-1]\n",
    "\n",
    "vectorizer.fit(train_x)\n",
    "vectorizer.fit(val_x)\n",
    "\n",
    "x_train = vectorizer.transform(train_x)\n",
    "y_train = train_y\n",
    "\n",
    "x_val = vectorizer.transform(val_x)\n",
    "y_val = val_y"
   ]
  },
  {
   "cell_type": "code",
   "execution_count": 67,
   "metadata": {},
   "outputs": [
    {
     "data": {
      "text/html": [
       "<div>\n",
       "<style scoped>\n",
       "    .dataframe tbody tr th:only-of-type {\n",
       "        vertical-align: middle;\n",
       "    }\n",
       "\n",
       "    .dataframe tbody tr th {\n",
       "        vertical-align: top;\n",
       "    }\n",
       "\n",
       "    .dataframe thead th {\n",
       "        text-align: right;\n",
       "    }\n",
       "</style>\n",
       "<table border=\"1\" class=\"dataframe\">\n",
       "  <thead>\n",
       "    <tr style=\"text-align: right;\">\n",
       "      <th></th>\n",
       "      <th>Literatur &amp; Unterhaltung</th>\n",
       "      <th>Ratgeber</th>\n",
       "      <th>Künste</th>\n",
       "      <th>Sachbuch</th>\n",
       "      <th>Glaube &amp; Ethik</th>\n",
       "      <th>Kinderbuch &amp; Jugendbuch</th>\n",
       "      <th>Ganzheitliches Bewusstsein</th>\n",
       "      <th>Architektur &amp; Garten</th>\n",
       "    </tr>\n",
       "  </thead>\n",
       "  <tbody>\n",
       "    <tr>\n",
       "      <th>0</th>\n",
       "      <td>0</td>\n",
       "      <td>0</td>\n",
       "      <td>0</td>\n",
       "      <td>0</td>\n",
       "      <td>1</td>\n",
       "      <td>0</td>\n",
       "      <td>0</td>\n",
       "      <td>0</td>\n",
       "    </tr>\n",
       "  </tbody>\n",
       "</table>\n",
       "</div>"
      ],
      "text/plain": [
       "   Literatur & Unterhaltung  Ratgeber  Künste  Sachbuch  Glaube & Ethik  \\\n",
       "0                         0         0       0         0               1   \n",
       "\n",
       "   Kinderbuch & Jugendbuch  Ganzheitliches Bewusstsein  Architektur & Garten  \n",
       "0                        0                           0                     0  "
      ]
     },
     "execution_count": 67,
     "metadata": {},
     "output_type": "execute_result"
    }
   ],
   "source": [
    "val_y[:1]"
   ]
  },
  {
   "cell_type": "code",
   "execution_count": 68,
   "metadata": {},
   "outputs": [
    {
     "name": "stdout",
     "output_type": "stream",
     "text": [
      "INFO: Training classifier...\n",
      "\n"
     ]
    }
   ],
   "source": [
    "# using classifier chains\n",
    "from skmultilearn.problem_transform import ClassifierChain\n",
    "from sklearn.linear_model import LogisticRegression#SGDClassifier\n",
    "\n",
    "# initialize classifier chains multi-label classifier\n",
    "classifier = ClassifierChain(LogisticRegression(solver='lbfgs'))\n",
    "\n",
    "print('INFO: Training classifier...\\n')"
   ]
  },
  {
   "cell_type": "code",
   "execution_count": 69,
   "metadata": {},
   "outputs": [],
   "source": [
    "np.random.seed(None)"
   ]
  },
  {
   "cell_type": "code",
   "execution_count": 70,
   "metadata": {},
   "outputs": [
    {
     "name": "stdout",
     "output_type": "stream",
     "text": [
      "INFO: Running iteration 1...\n",
      "\n",
      "INFO: weighted f1: 0.727108\n",
      "\n",
      "INFO: Running iteration 2...\n",
      "\n",
      "INFO: weighted f1: 0.727108\n",
      "\n",
      "INFO: Running iteration 3...\n",
      "\n",
      "INFO: weighted f1: 0.727108\n",
      "\n",
      "INFO: Running iteration 4...\n",
      "\n",
      "INFO: weighted f1: 0.727108\n",
      "\n",
      "INFO: Running iteration 5...\n",
      "\n",
      "INFO: weighted f1: 0.727108\n",
      "\n",
      "INFO: Running iteration 6...\n",
      "\n",
      "INFO: weighted f1: 0.727108\n",
      "\n",
      "INFO: Running iteration 7...\n",
      "\n",
      "INFO: weighted f1: 0.727108\n",
      "\n",
      "INFO: Running iteration 8...\n",
      "\n",
      "INFO: weighted f1: 0.727108\n",
      "\n",
      "INFO: Running iteration 9...\n",
      "\n",
      "INFO: weighted f1: 0.727108\n",
      "\n",
      "INFO: Running iteration 10...\n",
      "\n",
      "INFO: weighted f1: 0.727108\n",
      "\n",
      "INFO: Average weighted f1 over 10 runs: 0.727108\n",
      "\n"
     ]
    }
   ],
   "source": [
    "fscores = []\n",
    "numIterations = 10\n",
    "for i in range(numIterations):\n",
    "    print('INFO: Running iteration %d...\\n' % (i+1))    \n",
    "    classifier.fit(x_train, y_train)\n",
    "    predictions = classifier.predict(x_val)\n",
    "    f1 = f1_score(y_val,predictions, average='weighted')\n",
    "    print('INFO: weighted f1: %f\\n' % f1)\n",
    "    fscores.append(f1)\n",
    "\n",
    "print('INFO: Average weighted f1 over %d runs: %f\\n' % (numIterations, (np.mean(fscores))))"
   ]
  },
  {
   "cell_type": "markdown",
   "metadata": {},
   "source": [
    "### Test data"
   ]
  },
  {
   "cell_type": "code",
   "execution_count": 72,
   "metadata": {},
   "outputs": [],
   "source": [
    "# join train + dev\n",
    "# 报错， 数据集中没有 'blurbs_train_and_dev.txt' 这个文件\n",
    "fulltrain_books, task_labels = parseXML(os.path.join(DATASET_DIR, 'blurbs_train.txt'))\n",
    "\n",
    "\n",
    "# test without labels\n",
    "test_books, _ = parseXML(os.path.join(DATASET_DIR, 'blurbs_test_nolabel.txt'))"
   ]
  },
  {
   "cell_type": "code",
   "execution_count": 73,
   "metadata": {},
   "outputs": [
    {
     "data": {
      "text/html": [
       "<div>\n",
       "<style scoped>\n",
       "    .dataframe tbody tr th:only-of-type {\n",
       "        vertical-align: middle;\n",
       "    }\n",
       "\n",
       "    .dataframe tbody tr th {\n",
       "        vertical-align: top;\n",
       "    }\n",
       "\n",
       "    .dataframe thead th {\n",
       "        text-align: right;\n",
       "    }\n",
       "</style>\n",
       "<table border=\"1\" class=\"dataframe\">\n",
       "  <thead>\n",
       "    <tr style=\"text-align: right;\">\n",
       "      <th></th>\n",
       "      <th>isbn</th>\n",
       "      <th>title</th>\n",
       "      <th>title_words</th>\n",
       "      <th>author_count</th>\n",
       "      <th>authors</th>\n",
       "      <th>authors_academic</th>\n",
       "      <th>copyright</th>\n",
       "      <th>publish_date</th>\n",
       "      <th>age</th>\n",
       "      <th>text_words</th>\n",
       "      <th>text_words_10</th>\n",
       "      <th>word_len_mean</th>\n",
       "      <th>word_len_median</th>\n",
       "      <th>word_len_max</th>\n",
       "      <th>text</th>\n",
       "    </tr>\n",
       "  </thead>\n",
       "  <tbody>\n",
       "    <tr>\n",
       "      <th>0</th>\n",
       "      <td>9783809436690</td>\n",
       "      <td>Malbuch für 365 Tage</td>\n",
       "      <td>4</td>\n",
       "      <td>1</td>\n",
       "      <td>_</td>\n",
       "      <td>0</td>\n",
       "      <td>(c) Verlagsgruppe Random House GmbH</td>\n",
       "      <td>2016-10-03</td>\n",
       "      <td>8</td>\n",
       "      <td>56</td>\n",
       "      <td>6</td>\n",
       "      <td>6</td>\n",
       "      <td>6</td>\n",
       "      <td>13</td>\n",
       "      <td>Ausmalen bringt Freude und entspannt. Dieses m...</td>\n",
       "    </tr>\n",
       "    <tr>\n",
       "      <th>1</th>\n",
       "      <td>9783453702653</td>\n",
       "      <td>Ansteckende Gesundheit</td>\n",
       "      <td>2</td>\n",
       "      <td>1</td>\n",
       "      <td>Horst Krohne</td>\n",
       "      <td>0</td>\n",
       "      <td>(c) Verlagsgruppe Random House GmbH</td>\n",
       "      <td>2014-11-10</td>\n",
       "      <td>10</td>\n",
       "      <td>62</td>\n",
       "      <td>6</td>\n",
       "      <td>7</td>\n",
       "      <td>6</td>\n",
       "      <td>24</td>\n",
       "      <td>Die Beliebtheit der Geistheilung als Alternati...</td>\n",
       "    </tr>\n",
       "    <tr>\n",
       "      <th>2</th>\n",
       "      <td>9783453407343</td>\n",
       "      <td>Karibu heißt willkommen</td>\n",
       "      <td>3</td>\n",
       "      <td>1</td>\n",
       "      <td>Stefanie Zweig</td>\n",
       "      <td>0</td>\n",
       "      <td>(c) Verlagsgruppe Random House GmbH</td>\n",
       "      <td>2010-04-06</td>\n",
       "      <td>14</td>\n",
       "      <td>53</td>\n",
       "      <td>5</td>\n",
       "      <td>5</td>\n",
       "      <td>5</td>\n",
       "      <td>14</td>\n",
       "      <td>Die englische Farmerstochter Stella und das Ki...</td>\n",
       "    </tr>\n",
       "    <tr>\n",
       "      <th>3</th>\n",
       "      <td>9783442742394</td>\n",
       "      <td>Mein letzter Versuch die Welt zu retten</td>\n",
       "      <td>7</td>\n",
       "      <td>1</td>\n",
       "      <td>Jo Lendle</td>\n",
       "      <td>0</td>\n",
       "      <td>(c) Verlagsgruppe Random House GmbH</td>\n",
       "      <td>2011-07-11</td>\n",
       "      <td>13</td>\n",
       "      <td>107</td>\n",
       "      <td>11</td>\n",
       "      <td>5</td>\n",
       "      <td>4</td>\n",
       "      <td>16</td>\n",
       "      <td>Stell dir vor, es ist Demo und keiner geht hin...</td>\n",
       "    </tr>\n",
       "    <tr>\n",
       "      <th>4</th>\n",
       "      <td>9783734104275</td>\n",
       "      <td>Das saphirblaue Zimmer</td>\n",
       "      <td>3</td>\n",
       "      <td>3</td>\n",
       "      <td>Karen White;Beatriz Williams;Lauren Willig</td>\n",
       "      <td>0</td>\n",
       "      <td>(c) Verlagsgruppe Random House GmbH</td>\n",
       "      <td>2017-09-18</td>\n",
       "      <td>7</td>\n",
       "      <td>97</td>\n",
       "      <td>10</td>\n",
       "      <td>6</td>\n",
       "      <td>5</td>\n",
       "      <td>16</td>\n",
       "      <td>Manhattan 1945: Die junge Ärztin Kate Schuyler...</td>\n",
       "    </tr>\n",
       "  </tbody>\n",
       "</table>\n",
       "</div>"
      ],
      "text/plain": [
       "            isbn                                    title  title_words  \\\n",
       "0  9783809436690                     Malbuch für 365 Tage            4   \n",
       "1  9783453702653                   Ansteckende Gesundheit            2   \n",
       "2  9783453407343                  Karibu heißt willkommen            3   \n",
       "3  9783442742394  Mein letzter Versuch die Welt zu retten            7   \n",
       "4  9783734104275                   Das saphirblaue Zimmer            3   \n",
       "\n",
       "   author_count                                     authors  authors_academic  \\\n",
       "0             1                                           _                 0   \n",
       "1             1                                Horst Krohne                 0   \n",
       "2             1                              Stefanie Zweig                 0   \n",
       "3             1                                   Jo Lendle                 0   \n",
       "4             3  Karen White;Beatriz Williams;Lauren Willig                 0   \n",
       "\n",
       "                             copyright publish_date  age  text_words  \\\n",
       "0  (c) Verlagsgruppe Random House GmbH   2016-10-03    8          56   \n",
       "1  (c) Verlagsgruppe Random House GmbH   2014-11-10   10          62   \n",
       "2  (c) Verlagsgruppe Random House GmbH   2010-04-06   14          53   \n",
       "3  (c) Verlagsgruppe Random House GmbH   2011-07-11   13         107   \n",
       "4  (c) Verlagsgruppe Random House GmbH   2017-09-18    7          97   \n",
       "\n",
       "   text_words_10  word_len_mean  word_len_median  word_len_max  \\\n",
       "0              6              6                6            13   \n",
       "1              6              7                6            24   \n",
       "2              5              5                5            14   \n",
       "3             11              5                4            16   \n",
       "4             10              6                5            16   \n",
       "\n",
       "                                                text  \n",
       "0  Ausmalen bringt Freude und entspannt. Dieses m...  \n",
       "1  Die Beliebtheit der Geistheilung als Alternati...  \n",
       "2  Die englische Farmerstochter Stella und das Ki...  \n",
       "3  Stell dir vor, es ist Demo und keiner geht hin...  \n",
       "4  Manhattan 1945: Die junge Ärztin Kate Schuyler...  "
      ]
     },
     "execution_count": 73,
     "metadata": {},
     "output_type": "execute_result"
    }
   ],
   "source": [
    "with_text = True\n",
    "\n",
    "task1_labels = [label for label, level in task_labels.items() if level == 0]\n",
    "\n",
    "doc_cols = list(fulltrain_books[0].to_df_item(with_text).keys())\n",
    "label_cols = list(fulltrain_books[0].to_df_item_labels(task_labels).keys())\n",
    "\n",
    "fulltrain_df = pd.DataFrame([{**d.to_df_item(with_text), **d.to_df_item_labels(task_labels)} for d in fulltrain_books])\n",
    "test_df = pd.DataFrame([{**d.to_df_item(with_text), **d.to_df_item_labels(task_labels)} for d in test_books])\n",
    "\n",
    "fulltrain_df = fulltrain_df.reindex(columns=doc_cols + label_cols)\n",
    "test_df = test_df.reindex(columns=doc_cols)\n",
    "\n",
    "test_df.head()"
   ]
  },
  {
   "cell_type": "code",
   "execution_count": 74,
   "metadata": {},
   "outputs": [],
   "source": [
    "# Pickle for later use\n",
    "with open('germeval_fulltrain_df_meta.pickle', 'wb') as f:\n",
    "    pickle.dump((fulltrain_df, doc_cols, label_cols, task1_labels), f)\n",
    "\n",
    "with open('germeval_test_df_meta.pickle', 'wb') as f:\n",
    "    pickle.dump((test_df, doc_cols, label_cols, task1_labels), f)"
   ]
  },
  {
   "cell_type": "code",
   "execution_count": 75,
   "metadata": {},
   "outputs": [
    {
     "data": {
      "text/plain": [
       "18705"
      ]
     },
     "execution_count": 75,
     "metadata": {},
     "output_type": "execute_result"
    }
   ],
   "source": [
    "# authors to file: external script with retrieve additional author info\n",
    "authors = list(fulltrain_df['authors'].values) + list(test_df['authors'].values)  # TODO test data\n",
    "with open('authors.pickle', 'wb') as f:\n",
    "    # list -> ; delmitted str\n",
    "    pickle.dump(authors, f)\n",
    "    \n",
    "# without test: 16627\n",
    "len(authors)"
   ]
  },
  {
   "cell_type": "code",
   "execution_count": 76,
   "metadata": {},
   "outputs": [
    {
     "data": {
      "text/plain": [
       "['Noah Gordon',\n",
       " 'Raymond Feist',\n",
       " 'Susanne Weingarten',\n",
       " 'J. Kenner',\n",
       " 'Karl May',\n",
       " 'Ana Kraš',\n",
       " 'Rolf Bauerdick',\n",
       " 'Cynthia Barcomi;Ulf Meyer zu Kueingdorf',\n",
       " 'Nicholas Sparks',\n",
       " 'Gene DeWeese']"
      ]
     },
     "execution_count": 76,
     "metadata": {},
     "output_type": "execute_result"
    }
   ],
   "source": [
    "authors[:10]"
   ]
  },
  {
   "cell_type": "code",
   "execution_count": null,
   "metadata": {},
   "outputs": [],
   "source": []
  }
 ],
 "metadata": {
  "kernelspec": {
   "display_name": ".venv",
   "language": "python",
   "name": "python3"
  },
  "language_info": {
   "codemirror_mode": {
    "name": "ipython",
    "version": 3
   },
   "file_extension": ".py",
   "mimetype": "text/x-python",
   "name": "python",
   "nbconvert_exporter": "python",
   "pygments_lexer": "ipython3",
   "version": "3.10.10"
  }
 },
 "nbformat": 4,
 "nbformat_minor": 2
}
